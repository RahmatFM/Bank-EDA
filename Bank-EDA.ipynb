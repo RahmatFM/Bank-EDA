{
 "cells": [
  {
   "cell_type": "markdown",
   "id": "23d475d7-1a7f-4c1e-832c-6944c666d735",
   "metadata": {},
   "source": [
    "# The Marketing Campaigns (Deposito Subscribed) - EDA"
   ]
  },
  {
   "cell_type": "markdown",
   "id": "38930aec-91c5-48b3-9a6a-82d171c030c1",
   "metadata": {
    "tags": []
   },
   "source": [
    "#### Data source :\n",
    "   https://drive.google.com/file/d/1mvNj8sFFDC5FKMlMd6IHF85eRGfhyBtc/view?usp=sharing\n",
    "    \n",
    "#### Relevant Information:\n",
    "\n",
    "   The data is related with direct marketing campaigns of a Portuguese banking institution. \n",
    "   The marketing campaigns were based on phone calls. Often, more than one contact to the same client was required, \n",
    "   in order to access if the product (bank term deposit) would be (or not) subscribed. \n",
    "\n",
    "    Number of Instances: 45211 for bank-full.csv\n",
    "    Number of Attributes: 16 + output attribute.\n",
    "\n",
    "#### targets to be achieved :\n",
    " 1. What is the tendency of a person to subscribe to deposits based on age, balance, day, duration, campaign, pdays, and     previous?\n",
    " 2. What is the proportion of deposit subscriptions on the data?\n",
    " 3. What groups have a deposit subscription tendency based on the categories of age, job, marital, education, default,       balance, housing, loan, contact, day, month, duration, campaign, pdays, previous, poutcome?\n",
    " 4. What data has a strong correlation affecting someone subscribing to deposits?\n",
    "\n",
    "\n",
    "### FEATURE DESCRIPTION :\n",
    "\n",
    "##### bank client data:\n",
    ">   - age (numeric)\n",
    ">   - job : type of job (categorical: \"admin.\",\"unknown\",\"unemployed\",\"management\",\"housemaid\",\"entrepreneur\",\"student\",\n",
    "                                       \"blue-collar\",\"self-employed\",\"retired\",\"technician\",\"services\") \n",
    ">   - marital : marital status (categorical: \"married\",\"divorced\",\"single\"; note: \"divorced\" means divorced or widowed)\n",
    ">   - education (categorical: \"unknown\",\"secondary\",\"primary\",\"tertiary\")\n",
    ">   - default: has credit in default? (binary: \"yes\",\"no\")\n",
    ">   - balance: average yearly balance, in euros (numeric) \n",
    ">   - housing: has housing loan? (binary: \"yes\",\"no\")\n",
    ">   - loan: has personal loan? (binary: \"yes\",\"no\")\n",
    "##### related with the last contact of the current campaign:\n",
    ">   - contact: contact communication type (categorical: \"unknown\",\"telephone\",\"cellular\") \n",
    ">   - day: last contact day of the month (numeric)\n",
    ">   - month: last contact month of year (categorical: \"jan\", \"feb\", \"mar\", ..., \"nov\", \"dec\")\n",
    ">   - duration: last contact duration, in seconds (numeric)\n",
    "##### other attributes:\n",
    ">   - campaign: number of contacts performed during this campaign and for this client (numeric, includes last contact)\n",
    ">   - pdays: number of days that passed by after the client was last contacted from a previous campaign (numeric, -1 means client was not previously contacted)\n",
    ">   - previous: number of contacts performed before this campaign and for this client (numeric)\n",
    ">   - poutcome: outcome of the previous marketing campaign (categorical: \"unknown\",\"other\",\"failure\",\"success\")\n",
    "##### Output variable (desired target):\n",
    ">   - y: client subscribed"
   ]
  },
  {
   "cell_type": "markdown",
   "id": "40fb7cba-ae30-4bbc-bb6e-9ab67ce4fa93",
   "metadata": {},
   "source": [
    "#### IMPORT LIBRARIES"
   ]
  },
  {
   "cell_type": "code",
   "execution_count": 5,
   "id": "1f44e91c-2f9c-4894-85d3-0e01bc6422c7",
   "metadata": {},
   "outputs": [],
   "source": [
    "import pandas as pd\n",
    "import numpy as np\n",
    "import seaborn as sns\n",
    "import matplotlib.pyplot as plt\n",
    "import sklearn\n",
    "from sklearn.preprocessing import LabelEncoder\n",
    "import scipy.stats as ss\n",
    "import warnings \n",
    "warnings.filterwarnings(\"ignore\")\n",
    "\n",
    "sns.set_style('darkgrid')"
   ]
  },
  {
   "cell_type": "markdown",
   "id": "78e21ebf-e4e8-40f6-b0d6-2b322fe6148f",
   "metadata": {},
   "source": [
    " #### OVERVIEW"
   ]
  },
  {
   "cell_type": "markdown",
   "id": "4b03664d-9654-4f70-aee4-bff400220051",
   "metadata": {},
   "source": [
    "> Langkah pertama, load semua datanya.\n",
    "\n"
   ]
  },
  {
   "cell_type": "code",
   "execution_count": 6,
   "id": "a775c6d5-48b4-4bd5-aa39-1face6bef600",
   "metadata": {},
   "outputs": [],
   "source": [
    "df = pd.read_csv(\"bank-full.csv\", delimiter=\";\")"
   ]
  },
  {
   "cell_type": "code",
   "execution_count": 7,
   "id": "49f29718-faa6-48d5-8b18-e0e148b9cc24",
   "metadata": {
    "tags": []
   },
   "outputs": [
    {
     "data": {
      "text/html": [
       "<div>\n",
       "<style scoped>\n",
       "    .dataframe tbody tr th:only-of-type {\n",
       "        vertical-align: middle;\n",
       "    }\n",
       "\n",
       "    .dataframe tbody tr th {\n",
       "        vertical-align: top;\n",
       "    }\n",
       "\n",
       "    .dataframe thead th {\n",
       "        text-align: right;\n",
       "    }\n",
       "</style>\n",
       "<table border=\"1\" class=\"dataframe\">\n",
       "  <thead>\n",
       "    <tr style=\"text-align: right;\">\n",
       "      <th></th>\n",
       "      <th>age</th>\n",
       "      <th>job</th>\n",
       "      <th>marital</th>\n",
       "      <th>education</th>\n",
       "      <th>default</th>\n",
       "      <th>balance</th>\n",
       "      <th>housing</th>\n",
       "      <th>loan</th>\n",
       "      <th>contact</th>\n",
       "      <th>day</th>\n",
       "      <th>month</th>\n",
       "      <th>duration</th>\n",
       "      <th>campaign</th>\n",
       "      <th>pdays</th>\n",
       "      <th>previous</th>\n",
       "      <th>poutcome</th>\n",
       "      <th>y</th>\n",
       "    </tr>\n",
       "  </thead>\n",
       "  <tbody>\n",
       "    <tr>\n",
       "      <th>0</th>\n",
       "      <td>58</td>\n",
       "      <td>management</td>\n",
       "      <td>married</td>\n",
       "      <td>tertiary</td>\n",
       "      <td>no</td>\n",
       "      <td>2143</td>\n",
       "      <td>yes</td>\n",
       "      <td>no</td>\n",
       "      <td>unknown</td>\n",
       "      <td>5</td>\n",
       "      <td>may</td>\n",
       "      <td>261</td>\n",
       "      <td>1</td>\n",
       "      <td>-1</td>\n",
       "      <td>0</td>\n",
       "      <td>unknown</td>\n",
       "      <td>no</td>\n",
       "    </tr>\n",
       "    <tr>\n",
       "      <th>1</th>\n",
       "      <td>44</td>\n",
       "      <td>technician</td>\n",
       "      <td>single</td>\n",
       "      <td>secondary</td>\n",
       "      <td>no</td>\n",
       "      <td>29</td>\n",
       "      <td>yes</td>\n",
       "      <td>no</td>\n",
       "      <td>unknown</td>\n",
       "      <td>5</td>\n",
       "      <td>may</td>\n",
       "      <td>151</td>\n",
       "      <td>1</td>\n",
       "      <td>-1</td>\n",
       "      <td>0</td>\n",
       "      <td>unknown</td>\n",
       "      <td>no</td>\n",
       "    </tr>\n",
       "    <tr>\n",
       "      <th>2</th>\n",
       "      <td>33</td>\n",
       "      <td>entrepreneur</td>\n",
       "      <td>married</td>\n",
       "      <td>secondary</td>\n",
       "      <td>no</td>\n",
       "      <td>2</td>\n",
       "      <td>yes</td>\n",
       "      <td>yes</td>\n",
       "      <td>unknown</td>\n",
       "      <td>5</td>\n",
       "      <td>may</td>\n",
       "      <td>76</td>\n",
       "      <td>1</td>\n",
       "      <td>-1</td>\n",
       "      <td>0</td>\n",
       "      <td>unknown</td>\n",
       "      <td>no</td>\n",
       "    </tr>\n",
       "    <tr>\n",
       "      <th>3</th>\n",
       "      <td>47</td>\n",
       "      <td>blue-collar</td>\n",
       "      <td>married</td>\n",
       "      <td>unknown</td>\n",
       "      <td>no</td>\n",
       "      <td>1506</td>\n",
       "      <td>yes</td>\n",
       "      <td>no</td>\n",
       "      <td>unknown</td>\n",
       "      <td>5</td>\n",
       "      <td>may</td>\n",
       "      <td>92</td>\n",
       "      <td>1</td>\n",
       "      <td>-1</td>\n",
       "      <td>0</td>\n",
       "      <td>unknown</td>\n",
       "      <td>no</td>\n",
       "    </tr>\n",
       "    <tr>\n",
       "      <th>4</th>\n",
       "      <td>33</td>\n",
       "      <td>unknown</td>\n",
       "      <td>single</td>\n",
       "      <td>unknown</td>\n",
       "      <td>no</td>\n",
       "      <td>1</td>\n",
       "      <td>no</td>\n",
       "      <td>no</td>\n",
       "      <td>unknown</td>\n",
       "      <td>5</td>\n",
       "      <td>may</td>\n",
       "      <td>198</td>\n",
       "      <td>1</td>\n",
       "      <td>-1</td>\n",
       "      <td>0</td>\n",
       "      <td>unknown</td>\n",
       "      <td>no</td>\n",
       "    </tr>\n",
       "  </tbody>\n",
       "</table>\n",
       "</div>"
      ],
      "text/plain": [
       "   age           job  marital  education default  balance housing loan  \\\n",
       "0   58    management  married   tertiary      no     2143     yes   no   \n",
       "1   44    technician   single  secondary      no       29     yes   no   \n",
       "2   33  entrepreneur  married  secondary      no        2     yes  yes   \n",
       "3   47   blue-collar  married    unknown      no     1506     yes   no   \n",
       "4   33       unknown   single    unknown      no        1      no   no   \n",
       "\n",
       "   contact  day month  duration  campaign  pdays  previous poutcome   y  \n",
       "0  unknown    5   may       261         1     -1         0  unknown  no  \n",
       "1  unknown    5   may       151         1     -1         0  unknown  no  \n",
       "2  unknown    5   may        76         1     -1         0  unknown  no  \n",
       "3  unknown    5   may        92         1     -1         0  unknown  no  \n",
       "4  unknown    5   may       198         1     -1         0  unknown  no  "
      ]
     },
     "execution_count": 7,
     "metadata": {},
     "output_type": "execute_result"
    }
   ],
   "source": [
    "df.head()"
   ]
  },
  {
   "cell_type": "code",
   "execution_count": 8,
   "id": "fe29f45e-31d0-4ac5-8c53-3e9cc1e088c6",
   "metadata": {
    "tags": []
   },
   "outputs": [
    {
     "data": {
      "text/html": [
       "<div>\n",
       "<style scoped>\n",
       "    .dataframe tbody tr th:only-of-type {\n",
       "        vertical-align: middle;\n",
       "    }\n",
       "\n",
       "    .dataframe tbody tr th {\n",
       "        vertical-align: top;\n",
       "    }\n",
       "\n",
       "    .dataframe thead th {\n",
       "        text-align: right;\n",
       "    }\n",
       "</style>\n",
       "<table border=\"1\" class=\"dataframe\">\n",
       "  <thead>\n",
       "    <tr style=\"text-align: right;\">\n",
       "      <th></th>\n",
       "      <th>age</th>\n",
       "      <th>job</th>\n",
       "      <th>marital</th>\n",
       "      <th>education</th>\n",
       "      <th>default</th>\n",
       "      <th>balance</th>\n",
       "      <th>housing</th>\n",
       "      <th>loan</th>\n",
       "      <th>contact</th>\n",
       "      <th>day</th>\n",
       "      <th>month</th>\n",
       "      <th>duration</th>\n",
       "      <th>campaign</th>\n",
       "      <th>pdays</th>\n",
       "      <th>previous</th>\n",
       "      <th>poutcome</th>\n",
       "      <th>y</th>\n",
       "    </tr>\n",
       "  </thead>\n",
       "  <tbody>\n",
       "    <tr>\n",
       "      <th>45206</th>\n",
       "      <td>51</td>\n",
       "      <td>technician</td>\n",
       "      <td>married</td>\n",
       "      <td>tertiary</td>\n",
       "      <td>no</td>\n",
       "      <td>825</td>\n",
       "      <td>no</td>\n",
       "      <td>no</td>\n",
       "      <td>cellular</td>\n",
       "      <td>17</td>\n",
       "      <td>nov</td>\n",
       "      <td>977</td>\n",
       "      <td>3</td>\n",
       "      <td>-1</td>\n",
       "      <td>0</td>\n",
       "      <td>unknown</td>\n",
       "      <td>yes</td>\n",
       "    </tr>\n",
       "    <tr>\n",
       "      <th>45207</th>\n",
       "      <td>71</td>\n",
       "      <td>retired</td>\n",
       "      <td>divorced</td>\n",
       "      <td>primary</td>\n",
       "      <td>no</td>\n",
       "      <td>1729</td>\n",
       "      <td>no</td>\n",
       "      <td>no</td>\n",
       "      <td>cellular</td>\n",
       "      <td>17</td>\n",
       "      <td>nov</td>\n",
       "      <td>456</td>\n",
       "      <td>2</td>\n",
       "      <td>-1</td>\n",
       "      <td>0</td>\n",
       "      <td>unknown</td>\n",
       "      <td>yes</td>\n",
       "    </tr>\n",
       "    <tr>\n",
       "      <th>45208</th>\n",
       "      <td>72</td>\n",
       "      <td>retired</td>\n",
       "      <td>married</td>\n",
       "      <td>secondary</td>\n",
       "      <td>no</td>\n",
       "      <td>5715</td>\n",
       "      <td>no</td>\n",
       "      <td>no</td>\n",
       "      <td>cellular</td>\n",
       "      <td>17</td>\n",
       "      <td>nov</td>\n",
       "      <td>1127</td>\n",
       "      <td>5</td>\n",
       "      <td>184</td>\n",
       "      <td>3</td>\n",
       "      <td>success</td>\n",
       "      <td>yes</td>\n",
       "    </tr>\n",
       "    <tr>\n",
       "      <th>45209</th>\n",
       "      <td>57</td>\n",
       "      <td>blue-collar</td>\n",
       "      <td>married</td>\n",
       "      <td>secondary</td>\n",
       "      <td>no</td>\n",
       "      <td>668</td>\n",
       "      <td>no</td>\n",
       "      <td>no</td>\n",
       "      <td>telephone</td>\n",
       "      <td>17</td>\n",
       "      <td>nov</td>\n",
       "      <td>508</td>\n",
       "      <td>4</td>\n",
       "      <td>-1</td>\n",
       "      <td>0</td>\n",
       "      <td>unknown</td>\n",
       "      <td>no</td>\n",
       "    </tr>\n",
       "    <tr>\n",
       "      <th>45210</th>\n",
       "      <td>37</td>\n",
       "      <td>entrepreneur</td>\n",
       "      <td>married</td>\n",
       "      <td>secondary</td>\n",
       "      <td>no</td>\n",
       "      <td>2971</td>\n",
       "      <td>no</td>\n",
       "      <td>no</td>\n",
       "      <td>cellular</td>\n",
       "      <td>17</td>\n",
       "      <td>nov</td>\n",
       "      <td>361</td>\n",
       "      <td>2</td>\n",
       "      <td>188</td>\n",
       "      <td>11</td>\n",
       "      <td>other</td>\n",
       "      <td>no</td>\n",
       "    </tr>\n",
       "  </tbody>\n",
       "</table>\n",
       "</div>"
      ],
      "text/plain": [
       "       age           job   marital  education default  balance housing loan  \\\n",
       "45206   51    technician   married   tertiary      no      825      no   no   \n",
       "45207   71       retired  divorced    primary      no     1729      no   no   \n",
       "45208   72       retired   married  secondary      no     5715      no   no   \n",
       "45209   57   blue-collar   married  secondary      no      668      no   no   \n",
       "45210   37  entrepreneur   married  secondary      no     2971      no   no   \n",
       "\n",
       "         contact  day month  duration  campaign  pdays  previous poutcome    y  \n",
       "45206   cellular   17   nov       977         3     -1         0  unknown  yes  \n",
       "45207   cellular   17   nov       456         2     -1         0  unknown  yes  \n",
       "45208   cellular   17   nov      1127         5    184         3  success  yes  \n",
       "45209  telephone   17   nov       508         4     -1         0  unknown   no  \n",
       "45210   cellular   17   nov       361         2    188        11    other   no  "
      ]
     },
     "execution_count": 8,
     "metadata": {},
     "output_type": "execute_result"
    }
   ],
   "source": [
    "df.tail()"
   ]
  },
  {
   "cell_type": "code",
   "execution_count": 9,
   "id": "c20bf3bf-b0df-435b-a0d9-9a0b584924ae",
   "metadata": {
    "tags": []
   },
   "outputs": [
    {
     "data": {
      "text/html": [
       "<div>\n",
       "<style scoped>\n",
       "    .dataframe tbody tr th:only-of-type {\n",
       "        vertical-align: middle;\n",
       "    }\n",
       "\n",
       "    .dataframe tbody tr th {\n",
       "        vertical-align: top;\n",
       "    }\n",
       "\n",
       "    .dataframe thead th {\n",
       "        text-align: right;\n",
       "    }\n",
       "</style>\n",
       "<table border=\"1\" class=\"dataframe\">\n",
       "  <thead>\n",
       "    <tr style=\"text-align: right;\">\n",
       "      <th></th>\n",
       "      <th>age</th>\n",
       "      <th>job</th>\n",
       "      <th>marital</th>\n",
       "      <th>education</th>\n",
       "      <th>default</th>\n",
       "      <th>balance</th>\n",
       "      <th>housing</th>\n",
       "      <th>loan</th>\n",
       "      <th>contact</th>\n",
       "      <th>day</th>\n",
       "      <th>month</th>\n",
       "      <th>duration</th>\n",
       "      <th>campaign</th>\n",
       "      <th>pdays</th>\n",
       "      <th>previous</th>\n",
       "      <th>poutcome</th>\n",
       "      <th>y</th>\n",
       "    </tr>\n",
       "  </thead>\n",
       "  <tbody>\n",
       "    <tr>\n",
       "      <th>40631</th>\n",
       "      <td>30</td>\n",
       "      <td>self-employed</td>\n",
       "      <td>married</td>\n",
       "      <td>tertiary</td>\n",
       "      <td>no</td>\n",
       "      <td>2666</td>\n",
       "      <td>no</td>\n",
       "      <td>no</td>\n",
       "      <td>cellular</td>\n",
       "      <td>5</td>\n",
       "      <td>aug</td>\n",
       "      <td>475</td>\n",
       "      <td>2</td>\n",
       "      <td>93</td>\n",
       "      <td>4</td>\n",
       "      <td>success</td>\n",
       "      <td>yes</td>\n",
       "    </tr>\n",
       "    <tr>\n",
       "      <th>9891</th>\n",
       "      <td>45</td>\n",
       "      <td>admin.</td>\n",
       "      <td>married</td>\n",
       "      <td>secondary</td>\n",
       "      <td>no</td>\n",
       "      <td>967</td>\n",
       "      <td>no</td>\n",
       "      <td>no</td>\n",
       "      <td>unknown</td>\n",
       "      <td>9</td>\n",
       "      <td>jun</td>\n",
       "      <td>63</td>\n",
       "      <td>1</td>\n",
       "      <td>-1</td>\n",
       "      <td>0</td>\n",
       "      <td>unknown</td>\n",
       "      <td>no</td>\n",
       "    </tr>\n",
       "    <tr>\n",
       "      <th>37019</th>\n",
       "      <td>55</td>\n",
       "      <td>retired</td>\n",
       "      <td>married</td>\n",
       "      <td>secondary</td>\n",
       "      <td>no</td>\n",
       "      <td>918</td>\n",
       "      <td>yes</td>\n",
       "      <td>no</td>\n",
       "      <td>cellular</td>\n",
       "      <td>13</td>\n",
       "      <td>may</td>\n",
       "      <td>87</td>\n",
       "      <td>3</td>\n",
       "      <td>364</td>\n",
       "      <td>1</td>\n",
       "      <td>failure</td>\n",
       "      <td>no</td>\n",
       "    </tr>\n",
       "    <tr>\n",
       "      <th>24757</th>\n",
       "      <td>36</td>\n",
       "      <td>self-employed</td>\n",
       "      <td>single</td>\n",
       "      <td>secondary</td>\n",
       "      <td>no</td>\n",
       "      <td>15</td>\n",
       "      <td>no</td>\n",
       "      <td>no</td>\n",
       "      <td>cellular</td>\n",
       "      <td>18</td>\n",
       "      <td>nov</td>\n",
       "      <td>186</td>\n",
       "      <td>2</td>\n",
       "      <td>-1</td>\n",
       "      <td>0</td>\n",
       "      <td>unknown</td>\n",
       "      <td>no</td>\n",
       "    </tr>\n",
       "    <tr>\n",
       "      <th>29242</th>\n",
       "      <td>29</td>\n",
       "      <td>management</td>\n",
       "      <td>single</td>\n",
       "      <td>tertiary</td>\n",
       "      <td>no</td>\n",
       "      <td>642</td>\n",
       "      <td>no</td>\n",
       "      <td>no</td>\n",
       "      <td>cellular</td>\n",
       "      <td>2</td>\n",
       "      <td>feb</td>\n",
       "      <td>156</td>\n",
       "      <td>3</td>\n",
       "      <td>-1</td>\n",
       "      <td>0</td>\n",
       "      <td>unknown</td>\n",
       "      <td>no</td>\n",
       "    </tr>\n",
       "  </tbody>\n",
       "</table>\n",
       "</div>"
      ],
      "text/plain": [
       "       age            job  marital  education default  balance housing loan  \\\n",
       "40631   30  self-employed  married   tertiary      no     2666      no   no   \n",
       "9891    45         admin.  married  secondary      no      967      no   no   \n",
       "37019   55        retired  married  secondary      no      918     yes   no   \n",
       "24757   36  self-employed   single  secondary      no       15      no   no   \n",
       "29242   29     management   single   tertiary      no      642      no   no   \n",
       "\n",
       "        contact  day month  duration  campaign  pdays  previous poutcome    y  \n",
       "40631  cellular    5   aug       475         2     93         4  success  yes  \n",
       "9891    unknown    9   jun        63         1     -1         0  unknown   no  \n",
       "37019  cellular   13   may        87         3    364         1  failure   no  \n",
       "24757  cellular   18   nov       186         2     -1         0  unknown   no  \n",
       "29242  cellular    2   feb       156         3     -1         0  unknown   no  "
      ]
     },
     "execution_count": 9,
     "metadata": {},
     "output_type": "execute_result"
    }
   ],
   "source": [
    "df.sample(5)"
   ]
  },
  {
   "cell_type": "code",
   "execution_count": 10,
   "id": "002a6e34-3ac6-435d-9549-ed0f93f2d44b",
   "metadata": {},
   "outputs": [
    {
     "data": {
      "text/plain": [
       "(45211, 17)"
      ]
     },
     "execution_count": 10,
     "metadata": {},
     "output_type": "execute_result"
    }
   ],
   "source": [
    "# melihat shape data df\n",
    "\n",
    "df.shape"
   ]
  },
  {
   "cell_type": "markdown",
   "id": "380c3c55-3629-401b-b9a4-fd18d03f08e5",
   "metadata": {},
   "source": [
    "> lalu lihat info data, apakah bisa dengan 2 cara di bawah ini, lslpilih salah satu saja."
   ]
  },
  {
   "cell_type": "code",
   "execution_count": 11,
   "id": "056d4bb5-3e40-4d0a-955f-2086965b699a",
   "metadata": {
    "tags": []
   },
   "outputs": [
    {
     "name": "stdout",
     "output_type": "stream",
     "text": [
      "<class 'pandas.core.frame.DataFrame'>\n",
      "RangeIndex: 45211 entries, 0 to 45210\n",
      "Data columns (total 17 columns):\n",
      " #   Column     Non-Null Count  Dtype \n",
      "---  ------     --------------  ----- \n",
      " 0   age        45211 non-null  int64 \n",
      " 1   job        45211 non-null  object\n",
      " 2   marital    45211 non-null  object\n",
      " 3   education  45211 non-null  object\n",
      " 4   default    45211 non-null  object\n",
      " 5   balance    45211 non-null  int64 \n",
      " 6   housing    45211 non-null  object\n",
      " 7   loan       45211 non-null  object\n",
      " 8   contact    45211 non-null  object\n",
      " 9   day        45211 non-null  int64 \n",
      " 10  month      45211 non-null  object\n",
      " 11  duration   45211 non-null  int64 \n",
      " 12  campaign   45211 non-null  int64 \n",
      " 13  pdays      45211 non-null  int64 \n",
      " 14  previous   45211 non-null  int64 \n",
      " 15  poutcome   45211 non-null  object\n",
      " 16  y          45211 non-null  object\n",
      "dtypes: int64(7), object(10)\n",
      "memory usage: 5.9+ MB\n"
     ]
    }
   ],
   "source": [
    "df.info()"
   ]
  },
  {
   "cell_type": "code",
   "execution_count": 12,
   "id": "8e180343-dc39-4732-a45f-155cf2e92a65",
   "metadata": {
    "tags": []
   },
   "outputs": [
    {
     "data": {
      "text/html": [
       "<div>\n",
       "<style scoped>\n",
       "    .dataframe tbody tr th:only-of-type {\n",
       "        vertical-align: middle;\n",
       "    }\n",
       "\n",
       "    .dataframe tbody tr th {\n",
       "        vertical-align: top;\n",
       "    }\n",
       "\n",
       "    .dataframe thead th {\n",
       "        text-align: right;\n",
       "    }\n",
       "</style>\n",
       "<table border=\"1\" class=\"dataframe\">\n",
       "  <thead>\n",
       "    <tr style=\"text-align: right;\">\n",
       "      <th></th>\n",
       "      <th>dataFeatures</th>\n",
       "      <th>dataType</th>\n",
       "      <th>null</th>\n",
       "      <th>nullPct</th>\n",
       "      <th>Nunique</th>\n",
       "      <th>uniqueSample</th>\n",
       "    </tr>\n",
       "  </thead>\n",
       "  <tbody>\n",
       "    <tr>\n",
       "      <th>0</th>\n",
       "      <td>age</td>\n",
       "      <td>int64</td>\n",
       "      <td>0</td>\n",
       "      <td>0.0</td>\n",
       "      <td>77</td>\n",
       "      <td>[30]</td>\n",
       "    </tr>\n",
       "    <tr>\n",
       "      <th>9</th>\n",
       "      <td>day</td>\n",
       "      <td>int64</td>\n",
       "      <td>0</td>\n",
       "      <td>0.0</td>\n",
       "      <td>31</td>\n",
       "      <td>[17]</td>\n",
       "    </tr>\n",
       "    <tr>\n",
       "      <th>15</th>\n",
       "      <td>poutcome</td>\n",
       "      <td>object</td>\n",
       "      <td>0</td>\n",
       "      <td>0.0</td>\n",
       "      <td>4</td>\n",
       "      <td>[failure]</td>\n",
       "    </tr>\n",
       "    <tr>\n",
       "      <th>14</th>\n",
       "      <td>previous</td>\n",
       "      <td>int64</td>\n",
       "      <td>0</td>\n",
       "      <td>0.0</td>\n",
       "      <td>41</td>\n",
       "      <td>[19]</td>\n",
       "    </tr>\n",
       "    <tr>\n",
       "      <th>13</th>\n",
       "      <td>pdays</td>\n",
       "      <td>int64</td>\n",
       "      <td>0</td>\n",
       "      <td>0.0</td>\n",
       "      <td>559</td>\n",
       "      <td>[205]</td>\n",
       "    </tr>\n",
       "    <tr>\n",
       "      <th>12</th>\n",
       "      <td>campaign</td>\n",
       "      <td>int64</td>\n",
       "      <td>0</td>\n",
       "      <td>0.0</td>\n",
       "      <td>48</td>\n",
       "      <td>[5]</td>\n",
       "    </tr>\n",
       "    <tr>\n",
       "      <th>11</th>\n",
       "      <td>duration</td>\n",
       "      <td>int64</td>\n",
       "      <td>0</td>\n",
       "      <td>0.0</td>\n",
       "      <td>1573</td>\n",
       "      <td>[810]</td>\n",
       "    </tr>\n",
       "    <tr>\n",
       "      <th>10</th>\n",
       "      <td>month</td>\n",
       "      <td>object</td>\n",
       "      <td>0</td>\n",
       "      <td>0.0</td>\n",
       "      <td>12</td>\n",
       "      <td>[mar]</td>\n",
       "    </tr>\n",
       "    <tr>\n",
       "      <th>8</th>\n",
       "      <td>contact</td>\n",
       "      <td>object</td>\n",
       "      <td>0</td>\n",
       "      <td>0.0</td>\n",
       "      <td>3</td>\n",
       "      <td>[telephone]</td>\n",
       "    </tr>\n",
       "    <tr>\n",
       "      <th>1</th>\n",
       "      <td>job</td>\n",
       "      <td>object</td>\n",
       "      <td>0</td>\n",
       "      <td>0.0</td>\n",
       "      <td>12</td>\n",
       "      <td>[retired]</td>\n",
       "    </tr>\n",
       "    <tr>\n",
       "      <th>7</th>\n",
       "      <td>loan</td>\n",
       "      <td>object</td>\n",
       "      <td>0</td>\n",
       "      <td>0.0</td>\n",
       "      <td>2</td>\n",
       "      <td>[no]</td>\n",
       "    </tr>\n",
       "    <tr>\n",
       "      <th>6</th>\n",
       "      <td>housing</td>\n",
       "      <td>object</td>\n",
       "      <td>0</td>\n",
       "      <td>0.0</td>\n",
       "      <td>2</td>\n",
       "      <td>[no]</td>\n",
       "    </tr>\n",
       "    <tr>\n",
       "      <th>5</th>\n",
       "      <td>balance</td>\n",
       "      <td>int64</td>\n",
       "      <td>0</td>\n",
       "      <td>0.0</td>\n",
       "      <td>7168</td>\n",
       "      <td>[697]</td>\n",
       "    </tr>\n",
       "    <tr>\n",
       "      <th>4</th>\n",
       "      <td>default</td>\n",
       "      <td>object</td>\n",
       "      <td>0</td>\n",
       "      <td>0.0</td>\n",
       "      <td>2</td>\n",
       "      <td>[yes]</td>\n",
       "    </tr>\n",
       "    <tr>\n",
       "      <th>3</th>\n",
       "      <td>education</td>\n",
       "      <td>object</td>\n",
       "      <td>0</td>\n",
       "      <td>0.0</td>\n",
       "      <td>4</td>\n",
       "      <td>[primary]</td>\n",
       "    </tr>\n",
       "    <tr>\n",
       "      <th>2</th>\n",
       "      <td>marital</td>\n",
       "      <td>object</td>\n",
       "      <td>0</td>\n",
       "      <td>0.0</td>\n",
       "      <td>3</td>\n",
       "      <td>[married]</td>\n",
       "    </tr>\n",
       "    <tr>\n",
       "      <th>16</th>\n",
       "      <td>y</td>\n",
       "      <td>object</td>\n",
       "      <td>0</td>\n",
       "      <td>0.0</td>\n",
       "      <td>2</td>\n",
       "      <td>[yes]</td>\n",
       "    </tr>\n",
       "  </tbody>\n",
       "</table>\n",
       "</div>"
      ],
      "text/plain": [
       "   dataFeatures dataType  null  nullPct  Nunique uniqueSample\n",
       "0           age    int64     0      0.0       77         [30]\n",
       "9           day    int64     0      0.0       31         [17]\n",
       "15     poutcome   object     0      0.0        4    [failure]\n",
       "14     previous    int64     0      0.0       41         [19]\n",
       "13        pdays    int64     0      0.0      559        [205]\n",
       "12     campaign    int64     0      0.0       48          [5]\n",
       "11     duration    int64     0      0.0     1573        [810]\n",
       "10        month   object     0      0.0       12        [mar]\n",
       "8       contact   object     0      0.0        3  [telephone]\n",
       "1           job   object     0      0.0       12    [retired]\n",
       "7          loan   object     0      0.0        2         [no]\n",
       "6       housing   object     0      0.0        2         [no]\n",
       "5       balance    int64     0      0.0     7168        [697]\n",
       "4       default   object     0      0.0        2        [yes]\n",
       "3     education   object     0      0.0        4    [primary]\n",
       "2       marital   object     0      0.0        3    [married]\n",
       "16            y   object     0      0.0        2        [yes]"
      ]
     },
     "execution_count": 12,
     "metadata": {},
     "output_type": "execute_result"
    }
   ],
   "source": [
    "data = pd.DataFrame({'dataFeatures' : df.columns, 'dataType' : df.dtypes.values, \n",
    "              'null' : [df[i].isna().sum() for i in df.columns],\n",
    "              'nullPct' : [((df[i].isna().sum()/len(df[i]))*100).round(1) for i in df.columns],\n",
    "              'Nunique' : [df[i].nunique() for i in df.columns],\n",
    "              'uniqueSample' : [list(pd.Series(df[i].unique()).sample(1)) for i in df.columns]}).reset_index(drop = True)\n",
    "\n",
    "\n",
    "data.sort_values(by = \"null\", ascending = False)"
   ]
  },
  {
   "cell_type": "markdown",
   "id": "b4115d0c-9e0a-489b-8e02-651a9fa61591",
   "metadata": {},
   "source": [
    "> Tidak Terdapat Null values pada beberapa features."
   ]
  },
  {
   "cell_type": "markdown",
   "id": "7de57f8b-6f23-4d93-99fd-daad76283734",
   "metadata": {},
   "source": [
    "> describe() digunakan untuk melihat measure of central tendency, quantile, min dan max pada setiap features."
   ]
  },
  {
   "cell_type": "code",
   "execution_count": 13,
   "id": "61b72d39-cba6-4065-a6c1-0b8e29596015",
   "metadata": {
    "tags": []
   },
   "outputs": [
    {
     "data": {
      "text/html": [
       "<div>\n",
       "<style scoped>\n",
       "    .dataframe tbody tr th:only-of-type {\n",
       "        vertical-align: middle;\n",
       "    }\n",
       "\n",
       "    .dataframe tbody tr th {\n",
       "        vertical-align: top;\n",
       "    }\n",
       "\n",
       "    .dataframe thead th {\n",
       "        text-align: right;\n",
       "    }\n",
       "</style>\n",
       "<table border=\"1\" class=\"dataframe\">\n",
       "  <thead>\n",
       "    <tr style=\"text-align: right;\">\n",
       "      <th></th>\n",
       "      <th>count</th>\n",
       "      <th>mean</th>\n",
       "      <th>std</th>\n",
       "      <th>min</th>\n",
       "      <th>25%</th>\n",
       "      <th>50%</th>\n",
       "      <th>75%</th>\n",
       "      <th>max</th>\n",
       "    </tr>\n",
       "  </thead>\n",
       "  <tbody>\n",
       "    <tr>\n",
       "      <th>age</th>\n",
       "      <td>45211.0</td>\n",
       "      <td>40.936210</td>\n",
       "      <td>10.618762</td>\n",
       "      <td>18.0</td>\n",
       "      <td>33.0</td>\n",
       "      <td>39.0</td>\n",
       "      <td>48.0</td>\n",
       "      <td>95.0</td>\n",
       "    </tr>\n",
       "    <tr>\n",
       "      <th>balance</th>\n",
       "      <td>45211.0</td>\n",
       "      <td>1362.272058</td>\n",
       "      <td>3044.765829</td>\n",
       "      <td>-8019.0</td>\n",
       "      <td>72.0</td>\n",
       "      <td>448.0</td>\n",
       "      <td>1428.0</td>\n",
       "      <td>102127.0</td>\n",
       "    </tr>\n",
       "    <tr>\n",
       "      <th>day</th>\n",
       "      <td>45211.0</td>\n",
       "      <td>15.806419</td>\n",
       "      <td>8.322476</td>\n",
       "      <td>1.0</td>\n",
       "      <td>8.0</td>\n",
       "      <td>16.0</td>\n",
       "      <td>21.0</td>\n",
       "      <td>31.0</td>\n",
       "    </tr>\n",
       "    <tr>\n",
       "      <th>duration</th>\n",
       "      <td>45211.0</td>\n",
       "      <td>258.163080</td>\n",
       "      <td>257.527812</td>\n",
       "      <td>0.0</td>\n",
       "      <td>103.0</td>\n",
       "      <td>180.0</td>\n",
       "      <td>319.0</td>\n",
       "      <td>4918.0</td>\n",
       "    </tr>\n",
       "    <tr>\n",
       "      <th>campaign</th>\n",
       "      <td>45211.0</td>\n",
       "      <td>2.763841</td>\n",
       "      <td>3.098021</td>\n",
       "      <td>1.0</td>\n",
       "      <td>1.0</td>\n",
       "      <td>2.0</td>\n",
       "      <td>3.0</td>\n",
       "      <td>63.0</td>\n",
       "    </tr>\n",
       "    <tr>\n",
       "      <th>pdays</th>\n",
       "      <td>45211.0</td>\n",
       "      <td>40.197828</td>\n",
       "      <td>100.128746</td>\n",
       "      <td>-1.0</td>\n",
       "      <td>-1.0</td>\n",
       "      <td>-1.0</td>\n",
       "      <td>-1.0</td>\n",
       "      <td>871.0</td>\n",
       "    </tr>\n",
       "    <tr>\n",
       "      <th>previous</th>\n",
       "      <td>45211.0</td>\n",
       "      <td>0.580323</td>\n",
       "      <td>2.303441</td>\n",
       "      <td>0.0</td>\n",
       "      <td>0.0</td>\n",
       "      <td>0.0</td>\n",
       "      <td>0.0</td>\n",
       "      <td>275.0</td>\n",
       "    </tr>\n",
       "  </tbody>\n",
       "</table>\n",
       "</div>"
      ],
      "text/plain": [
       "            count         mean          std     min    25%    50%     75%  \\\n",
       "age       45211.0    40.936210    10.618762    18.0   33.0   39.0    48.0   \n",
       "balance   45211.0  1362.272058  3044.765829 -8019.0   72.0  448.0  1428.0   \n",
       "day       45211.0    15.806419     8.322476     1.0    8.0   16.0    21.0   \n",
       "duration  45211.0   258.163080   257.527812     0.0  103.0  180.0   319.0   \n",
       "campaign  45211.0     2.763841     3.098021     1.0    1.0    2.0     3.0   \n",
       "pdays     45211.0    40.197828   100.128746    -1.0   -1.0   -1.0    -1.0   \n",
       "previous  45211.0     0.580323     2.303441     0.0    0.0    0.0     0.0   \n",
       "\n",
       "               max  \n",
       "age           95.0  \n",
       "balance   102127.0  \n",
       "day           31.0  \n",
       "duration    4918.0  \n",
       "campaign      63.0  \n",
       "pdays        871.0  \n",
       "previous     275.0  "
      ]
     },
     "execution_count": 13,
     "metadata": {},
     "output_type": "execute_result"
    }
   ],
   "source": [
    "df.describe().T"
   ]
  },
  {
   "cell_type": "markdown",
   "id": "d72b35b7-3c4d-4d09-bb12-62316a35bc13",
   "metadata": {},
   "source": [
    "> Dibawah ini adalah describe() untuk data selian numeric. Terdapat unique (kategori yg berbeda), top (data tersering muncul), dan freq (jumlah seringnya muncul)."
   ]
  },
  {
   "cell_type": "code",
   "execution_count": 14,
   "id": "1e39ef69-dd97-43a0-b115-1746efaa5602",
   "metadata": {
    "tags": []
   },
   "outputs": [
    {
     "data": {
      "text/html": [
       "<div>\n",
       "<style scoped>\n",
       "    .dataframe tbody tr th:only-of-type {\n",
       "        vertical-align: middle;\n",
       "    }\n",
       "\n",
       "    .dataframe tbody tr th {\n",
       "        vertical-align: top;\n",
       "    }\n",
       "\n",
       "    .dataframe thead th {\n",
       "        text-align: right;\n",
       "    }\n",
       "</style>\n",
       "<table border=\"1\" class=\"dataframe\">\n",
       "  <thead>\n",
       "    <tr style=\"text-align: right;\">\n",
       "      <th></th>\n",
       "      <th>count</th>\n",
       "      <th>unique</th>\n",
       "      <th>top</th>\n",
       "      <th>freq</th>\n",
       "    </tr>\n",
       "  </thead>\n",
       "  <tbody>\n",
       "    <tr>\n",
       "      <th>job</th>\n",
       "      <td>45211</td>\n",
       "      <td>12</td>\n",
       "      <td>blue-collar</td>\n",
       "      <td>9732</td>\n",
       "    </tr>\n",
       "    <tr>\n",
       "      <th>marital</th>\n",
       "      <td>45211</td>\n",
       "      <td>3</td>\n",
       "      <td>married</td>\n",
       "      <td>27214</td>\n",
       "    </tr>\n",
       "    <tr>\n",
       "      <th>education</th>\n",
       "      <td>45211</td>\n",
       "      <td>4</td>\n",
       "      <td>secondary</td>\n",
       "      <td>23202</td>\n",
       "    </tr>\n",
       "    <tr>\n",
       "      <th>default</th>\n",
       "      <td>45211</td>\n",
       "      <td>2</td>\n",
       "      <td>no</td>\n",
       "      <td>44396</td>\n",
       "    </tr>\n",
       "    <tr>\n",
       "      <th>housing</th>\n",
       "      <td>45211</td>\n",
       "      <td>2</td>\n",
       "      <td>yes</td>\n",
       "      <td>25130</td>\n",
       "    </tr>\n",
       "    <tr>\n",
       "      <th>loan</th>\n",
       "      <td>45211</td>\n",
       "      <td>2</td>\n",
       "      <td>no</td>\n",
       "      <td>37967</td>\n",
       "    </tr>\n",
       "    <tr>\n",
       "      <th>contact</th>\n",
       "      <td>45211</td>\n",
       "      <td>3</td>\n",
       "      <td>cellular</td>\n",
       "      <td>29285</td>\n",
       "    </tr>\n",
       "    <tr>\n",
       "      <th>month</th>\n",
       "      <td>45211</td>\n",
       "      <td>12</td>\n",
       "      <td>may</td>\n",
       "      <td>13766</td>\n",
       "    </tr>\n",
       "    <tr>\n",
       "      <th>poutcome</th>\n",
       "      <td>45211</td>\n",
       "      <td>4</td>\n",
       "      <td>unknown</td>\n",
       "      <td>36959</td>\n",
       "    </tr>\n",
       "    <tr>\n",
       "      <th>y</th>\n",
       "      <td>45211</td>\n",
       "      <td>2</td>\n",
       "      <td>no</td>\n",
       "      <td>39922</td>\n",
       "    </tr>\n",
       "  </tbody>\n",
       "</table>\n",
       "</div>"
      ],
      "text/plain": [
       "           count unique          top   freq\n",
       "job        45211     12  blue-collar   9732\n",
       "marital    45211      3      married  27214\n",
       "education  45211      4    secondary  23202\n",
       "default    45211      2           no  44396\n",
       "housing    45211      2          yes  25130\n",
       "loan       45211      2           no  37967\n",
       "contact    45211      3     cellular  29285\n",
       "month      45211     12          may  13766\n",
       "poutcome   45211      4      unknown  36959\n",
       "y          45211      2           no  39922"
      ]
     },
     "execution_count": 14,
     "metadata": {},
     "output_type": "execute_result"
    }
   ],
   "source": [
    "df.describe(include = 'object').T"
   ]
  },
  {
   "cell_type": "code",
   "execution_count": 15,
   "id": "76217e32-772d-49cd-95d6-f47fce00475b",
   "metadata": {
    "tags": []
   },
   "outputs": [
    {
     "data": {
      "text/html": [
       "<div>\n",
       "<style scoped>\n",
       "    .dataframe tbody tr th:only-of-type {\n",
       "        vertical-align: middle;\n",
       "    }\n",
       "\n",
       "    .dataframe tbody tr th {\n",
       "        vertical-align: top;\n",
       "    }\n",
       "\n",
       "    .dataframe thead th {\n",
       "        text-align: right;\n",
       "    }\n",
       "</style>\n",
       "<table border=\"1\" class=\"dataframe\">\n",
       "  <thead>\n",
       "    <tr style=\"text-align: right;\">\n",
       "      <th></th>\n",
       "    </tr>\n",
       "  </thead>\n",
       "  <tbody>\n",
       "    <tr>\n",
       "      <th>0</th>\n",
       "    </tr>\n",
       "    <tr>\n",
       "      <th>1</th>\n",
       "    </tr>\n",
       "    <tr>\n",
       "      <th>2</th>\n",
       "    </tr>\n",
       "  </tbody>\n",
       "</table>\n",
       "</div>"
      ],
      "text/plain": [
       "Empty DataFrame\n",
       "Columns: []\n",
       "Index: [0, 1, 2]"
      ]
     },
     "execution_count": 15,
     "metadata": {},
     "output_type": "execute_result"
    }
   ],
   "source": [
    "# Kelompokkan data type boolean\n",
    "\n",
    "df.select_dtypes(['bool']).head(3)"
   ]
  },
  {
   "cell_type": "code",
   "execution_count": 16,
   "id": "c22c86c1-9d09-4a72-918e-393ec666f305",
   "metadata": {
    "tags": []
   },
   "outputs": [
    {
     "data": {
      "text/html": [
       "<div>\n",
       "<style scoped>\n",
       "    .dataframe tbody tr th:only-of-type {\n",
       "        vertical-align: middle;\n",
       "    }\n",
       "\n",
       "    .dataframe tbody tr th {\n",
       "        vertical-align: top;\n",
       "    }\n",
       "\n",
       "    .dataframe thead th {\n",
       "        text-align: right;\n",
       "    }\n",
       "</style>\n",
       "<table border=\"1\" class=\"dataframe\">\n",
       "  <thead>\n",
       "    <tr style=\"text-align: right;\">\n",
       "      <th></th>\n",
       "      <th>count</th>\n",
       "      <th>mean</th>\n",
       "      <th>std</th>\n",
       "      <th>min</th>\n",
       "      <th>25%</th>\n",
       "      <th>50%</th>\n",
       "      <th>75%</th>\n",
       "      <th>max</th>\n",
       "    </tr>\n",
       "  </thead>\n",
       "  <tbody>\n",
       "    <tr>\n",
       "      <th>age</th>\n",
       "      <td>45211.0</td>\n",
       "      <td>40.936210</td>\n",
       "      <td>10.618762</td>\n",
       "      <td>18.0</td>\n",
       "      <td>33.0</td>\n",
       "      <td>39.0</td>\n",
       "      <td>48.0</td>\n",
       "      <td>95.0</td>\n",
       "    </tr>\n",
       "    <tr>\n",
       "      <th>balance</th>\n",
       "      <td>45211.0</td>\n",
       "      <td>1362.272058</td>\n",
       "      <td>3044.765829</td>\n",
       "      <td>-8019.0</td>\n",
       "      <td>72.0</td>\n",
       "      <td>448.0</td>\n",
       "      <td>1428.0</td>\n",
       "      <td>102127.0</td>\n",
       "    </tr>\n",
       "    <tr>\n",
       "      <th>day</th>\n",
       "      <td>45211.0</td>\n",
       "      <td>15.806419</td>\n",
       "      <td>8.322476</td>\n",
       "      <td>1.0</td>\n",
       "      <td>8.0</td>\n",
       "      <td>16.0</td>\n",
       "      <td>21.0</td>\n",
       "      <td>31.0</td>\n",
       "    </tr>\n",
       "    <tr>\n",
       "      <th>duration</th>\n",
       "      <td>45211.0</td>\n",
       "      <td>258.163080</td>\n",
       "      <td>257.527812</td>\n",
       "      <td>0.0</td>\n",
       "      <td>103.0</td>\n",
       "      <td>180.0</td>\n",
       "      <td>319.0</td>\n",
       "      <td>4918.0</td>\n",
       "    </tr>\n",
       "    <tr>\n",
       "      <th>campaign</th>\n",
       "      <td>45211.0</td>\n",
       "      <td>2.763841</td>\n",
       "      <td>3.098021</td>\n",
       "      <td>1.0</td>\n",
       "      <td>1.0</td>\n",
       "      <td>2.0</td>\n",
       "      <td>3.0</td>\n",
       "      <td>63.0</td>\n",
       "    </tr>\n",
       "    <tr>\n",
       "      <th>pdays</th>\n",
       "      <td>45211.0</td>\n",
       "      <td>40.197828</td>\n",
       "      <td>100.128746</td>\n",
       "      <td>-1.0</td>\n",
       "      <td>-1.0</td>\n",
       "      <td>-1.0</td>\n",
       "      <td>-1.0</td>\n",
       "      <td>871.0</td>\n",
       "    </tr>\n",
       "    <tr>\n",
       "      <th>previous</th>\n",
       "      <td>45211.0</td>\n",
       "      <td>0.580323</td>\n",
       "      <td>2.303441</td>\n",
       "      <td>0.0</td>\n",
       "      <td>0.0</td>\n",
       "      <td>0.0</td>\n",
       "      <td>0.0</td>\n",
       "      <td>275.0</td>\n",
       "    </tr>\n",
       "  </tbody>\n",
       "</table>\n",
       "</div>"
      ],
      "text/plain": [
       "            count         mean          std     min    25%    50%     75%  \\\n",
       "age       45211.0    40.936210    10.618762    18.0   33.0   39.0    48.0   \n",
       "balance   45211.0  1362.272058  3044.765829 -8019.0   72.0  448.0  1428.0   \n",
       "day       45211.0    15.806419     8.322476     1.0    8.0   16.0    21.0   \n",
       "duration  45211.0   258.163080   257.527812     0.0  103.0  180.0   319.0   \n",
       "campaign  45211.0     2.763841     3.098021     1.0    1.0    2.0     3.0   \n",
       "pdays     45211.0    40.197828   100.128746    -1.0   -1.0   -1.0    -1.0   \n",
       "previous  45211.0     0.580323     2.303441     0.0    0.0    0.0     0.0   \n",
       "\n",
       "               max  \n",
       "age           95.0  \n",
       "balance   102127.0  \n",
       "day           31.0  \n",
       "duration    4918.0  \n",
       "campaign      63.0  \n",
       "pdays        871.0  \n",
       "previous     275.0  "
      ]
     },
     "execution_count": 16,
     "metadata": {},
     "output_type": "execute_result"
    }
   ],
   "source": [
    "df.describe(include = (['float64', 'int64'])).T"
   ]
  },
  {
   "cell_type": "code",
   "execution_count": 163,
   "id": "4143d1e3-fac3-4e49-b0e6-73152526a8fa",
   "metadata": {
    "tags": []
   },
   "outputs": [
    {
     "data": {
      "image/png": "[encoded data removed]",
      "text/plain": [
       "<Figure size 2160x1440 with 7 Axes>"
      ]
     },
     "metadata": {},
     "output_type": "display_data"
    }
   ],
   "source": [
    "plt.figure(figsize=(30,20))\n",
    "features = [\"age\", \"balance\", \"day\", \"duration\", \"campaign\", \"pdays\", \"previous\"]\n",
    "for i in range(0, len(features)):\n",
    "    plt.subplot(3, 9, i+1)\n",
    "    sns.boxplot(y=df[features[i]], color ='Purple',orient='v')\n",
    "    plt.xlabel(features[i])"
   ]
  },
  {
   "cell_type": "markdown",
   "id": "ade42057-d9ff-48b4-8444-a6ed1c1f85c2",
   "metadata": {
    "tags": []
   },
   "source": [
    "> Berdasarka Boxplot, diketahui bahwa terdapat Outlier pada Feature MonthlyIncome sehingga perlu dihandling pada processing"
   ]
  },
  {
   "cell_type": "markdown",
   "id": "73c0a9b0-05af-48aa-84cc-f9874a784902",
   "metadata": {},
   "source": [
    "# \n",
    "# PREPROCESSING\n",
    "\n",
    "##### 1. Drop data yang tidak perlu"
   ]
  },
  {
   "cell_type": "code",
   "execution_count": 18,
   "id": "22367f07-9418-4256-852e-fc6da388dbe1",
   "metadata": {},
   "outputs": [
    {
     "data": {
      "text/html": [
       "<div>\n",
       "<style scoped>\n",
       "    .dataframe tbody tr th:only-of-type {\n",
       "        vertical-align: middle;\n",
       "    }\n",
       "\n",
       "    .dataframe tbody tr th {\n",
       "        vertical-align: top;\n",
       "    }\n",
       "\n",
       "    .dataframe thead th {\n",
       "        text-align: right;\n",
       "    }\n",
       "</style>\n",
       "<table border=\"1\" class=\"dataframe\">\n",
       "  <thead>\n",
       "    <tr style=\"text-align: right;\">\n",
       "      <th></th>\n",
       "      <th>dataFeatures</th>\n",
       "      <th>dataType</th>\n",
       "      <th>null</th>\n",
       "      <th>nullPct</th>\n",
       "      <th>Nunique</th>\n",
       "      <th>uniqueSample</th>\n",
       "    </tr>\n",
       "  </thead>\n",
       "  <tbody>\n",
       "    <tr>\n",
       "      <th>0</th>\n",
       "      <td>age</td>\n",
       "      <td>int64</td>\n",
       "      <td>0</td>\n",
       "      <td>0.0</td>\n",
       "      <td>77</td>\n",
       "      <td>[30]</td>\n",
       "    </tr>\n",
       "    <tr>\n",
       "      <th>9</th>\n",
       "      <td>day</td>\n",
       "      <td>int64</td>\n",
       "      <td>0</td>\n",
       "      <td>0.0</td>\n",
       "      <td>31</td>\n",
       "      <td>[17]</td>\n",
       "    </tr>\n",
       "    <tr>\n",
       "      <th>15</th>\n",
       "      <td>poutcome</td>\n",
       "      <td>object</td>\n",
       "      <td>0</td>\n",
       "      <td>0.0</td>\n",
       "      <td>4</td>\n",
       "      <td>[failure]</td>\n",
       "    </tr>\n",
       "    <tr>\n",
       "      <th>14</th>\n",
       "      <td>previous</td>\n",
       "      <td>int64</td>\n",
       "      <td>0</td>\n",
       "      <td>0.0</td>\n",
       "      <td>41</td>\n",
       "      <td>[19]</td>\n",
       "    </tr>\n",
       "    <tr>\n",
       "      <th>13</th>\n",
       "      <td>pdays</td>\n",
       "      <td>int64</td>\n",
       "      <td>0</td>\n",
       "      <td>0.0</td>\n",
       "      <td>559</td>\n",
       "      <td>[205]</td>\n",
       "    </tr>\n",
       "    <tr>\n",
       "      <th>12</th>\n",
       "      <td>campaign</td>\n",
       "      <td>int64</td>\n",
       "      <td>0</td>\n",
       "      <td>0.0</td>\n",
       "      <td>48</td>\n",
       "      <td>[5]</td>\n",
       "    </tr>\n",
       "    <tr>\n",
       "      <th>11</th>\n",
       "      <td>duration</td>\n",
       "      <td>int64</td>\n",
       "      <td>0</td>\n",
       "      <td>0.0</td>\n",
       "      <td>1573</td>\n",
       "      <td>[810]</td>\n",
       "    </tr>\n",
       "    <tr>\n",
       "      <th>10</th>\n",
       "      <td>month</td>\n",
       "      <td>object</td>\n",
       "      <td>0</td>\n",
       "      <td>0.0</td>\n",
       "      <td>12</td>\n",
       "      <td>[mar]</td>\n",
       "    </tr>\n",
       "    <tr>\n",
       "      <th>8</th>\n",
       "      <td>contact</td>\n",
       "      <td>object</td>\n",
       "      <td>0</td>\n",
       "      <td>0.0</td>\n",
       "      <td>3</td>\n",
       "      <td>[telephone]</td>\n",
       "    </tr>\n",
       "    <tr>\n",
       "      <th>1</th>\n",
       "      <td>job</td>\n",
       "      <td>object</td>\n",
       "      <td>0</td>\n",
       "      <td>0.0</td>\n",
       "      <td>12</td>\n",
       "      <td>[retired]</td>\n",
       "    </tr>\n",
       "    <tr>\n",
       "      <th>7</th>\n",
       "      <td>loan</td>\n",
       "      <td>object</td>\n",
       "      <td>0</td>\n",
       "      <td>0.0</td>\n",
       "      <td>2</td>\n",
       "      <td>[no]</td>\n",
       "    </tr>\n",
       "    <tr>\n",
       "      <th>6</th>\n",
       "      <td>housing</td>\n",
       "      <td>object</td>\n",
       "      <td>0</td>\n",
       "      <td>0.0</td>\n",
       "      <td>2</td>\n",
       "      <td>[no]</td>\n",
       "    </tr>\n",
       "    <tr>\n",
       "      <th>5</th>\n",
       "      <td>balance</td>\n",
       "      <td>int64</td>\n",
       "      <td>0</td>\n",
       "      <td>0.0</td>\n",
       "      <td>7168</td>\n",
       "      <td>[697]</td>\n",
       "    </tr>\n",
       "    <tr>\n",
       "      <th>4</th>\n",
       "      <td>default</td>\n",
       "      <td>object</td>\n",
       "      <td>0</td>\n",
       "      <td>0.0</td>\n",
       "      <td>2</td>\n",
       "      <td>[yes]</td>\n",
       "    </tr>\n",
       "    <tr>\n",
       "      <th>3</th>\n",
       "      <td>education</td>\n",
       "      <td>object</td>\n",
       "      <td>0</td>\n",
       "      <td>0.0</td>\n",
       "      <td>4</td>\n",
       "      <td>[primary]</td>\n",
       "    </tr>\n",
       "    <tr>\n",
       "      <th>2</th>\n",
       "      <td>marital</td>\n",
       "      <td>object</td>\n",
       "      <td>0</td>\n",
       "      <td>0.0</td>\n",
       "      <td>3</td>\n",
       "      <td>[married]</td>\n",
       "    </tr>\n",
       "    <tr>\n",
       "      <th>16</th>\n",
       "      <td>y</td>\n",
       "      <td>object</td>\n",
       "      <td>0</td>\n",
       "      <td>0.0</td>\n",
       "      <td>2</td>\n",
       "      <td>[yes]</td>\n",
       "    </tr>\n",
       "  </tbody>\n",
       "</table>\n",
       "</div>"
      ],
      "text/plain": [
       "   dataFeatures dataType  null  nullPct  Nunique uniqueSample\n",
       "0           age    int64     0      0.0       77         [30]\n",
       "9           day    int64     0      0.0       31         [17]\n",
       "15     poutcome   object     0      0.0        4    [failure]\n",
       "14     previous    int64     0      0.0       41         [19]\n",
       "13        pdays    int64     0      0.0      559        [205]\n",
       "12     campaign    int64     0      0.0       48          [5]\n",
       "11     duration    int64     0      0.0     1573        [810]\n",
       "10        month   object     0      0.0       12        [mar]\n",
       "8       contact   object     0      0.0        3  [telephone]\n",
       "1           job   object     0      0.0       12    [retired]\n",
       "7          loan   object     0      0.0        2         [no]\n",
       "6       housing   object     0      0.0        2         [no]\n",
       "5       balance    int64     0      0.0     7168        [697]\n",
       "4       default   object     0      0.0        2        [yes]\n",
       "3     education   object     0      0.0        4    [primary]\n",
       "2       marital   object     0      0.0        3    [married]\n",
       "16            y   object     0      0.0        2        [yes]"
      ]
     },
     "execution_count": 18,
     "metadata": {},
     "output_type": "execute_result"
    }
   ],
   "source": [
    "data.sort_values(by = \"null\", ascending = False)"
   ]
  },
  {
   "cell_type": "markdown",
   "id": "0fc1bec4-0890-4d5e-9cc0-16cc43e233f1",
   "metadata": {},
   "source": [
    "> Berdasarkan hasil diatas, dapat diketahui bahwa tidak ada data missing value/null sehingga tidak perlu melakukan handling missing value/ null dengan drop data."
   ]
  },
  {
   "cell_type": "markdown",
   "id": "f504abb9-f5a8-4416-930c-ff7ddf8a7ae1",
   "metadata": {},
   "source": [
    "##### 2. Setelah itu kelompokkan data berdasarkan tipenya."
   ]
  },
  {
   "cell_type": "code",
   "execution_count": 19,
   "id": "fe4442fd-862d-45e7-b582-cef2e0781610",
   "metadata": {},
   "outputs": [
    {
     "data": {
      "text/html": [
       "<div>\n",
       "<style scoped>\n",
       "    .dataframe tbody tr th:only-of-type {\n",
       "        vertical-align: middle;\n",
       "    }\n",
       "\n",
       "    .dataframe tbody tr th {\n",
       "        vertical-align: top;\n",
       "    }\n",
       "\n",
       "    .dataframe thead th {\n",
       "        text-align: right;\n",
       "    }\n",
       "</style>\n",
       "<table border=\"1\" class=\"dataframe\">\n",
       "  <thead>\n",
       "    <tr style=\"text-align: right;\">\n",
       "      <th></th>\n",
       "      <th>job</th>\n",
       "      <th>marital</th>\n",
       "      <th>education</th>\n",
       "      <th>default</th>\n",
       "      <th>housing</th>\n",
       "      <th>loan</th>\n",
       "      <th>contact</th>\n",
       "      <th>month</th>\n",
       "      <th>poutcome</th>\n",
       "      <th>y</th>\n",
       "    </tr>\n",
       "  </thead>\n",
       "  <tbody>\n",
       "    <tr>\n",
       "      <th>0</th>\n",
       "      <td>management</td>\n",
       "      <td>married</td>\n",
       "      <td>tertiary</td>\n",
       "      <td>no</td>\n",
       "      <td>yes</td>\n",
       "      <td>no</td>\n",
       "      <td>unknown</td>\n",
       "      <td>may</td>\n",
       "      <td>unknown</td>\n",
       "      <td>no</td>\n",
       "    </tr>\n",
       "    <tr>\n",
       "      <th>1</th>\n",
       "      <td>technician</td>\n",
       "      <td>single</td>\n",
       "      <td>secondary</td>\n",
       "      <td>no</td>\n",
       "      <td>yes</td>\n",
       "      <td>no</td>\n",
       "      <td>unknown</td>\n",
       "      <td>may</td>\n",
       "      <td>unknown</td>\n",
       "      <td>no</td>\n",
       "    </tr>\n",
       "    <tr>\n",
       "      <th>2</th>\n",
       "      <td>entrepreneur</td>\n",
       "      <td>married</td>\n",
       "      <td>secondary</td>\n",
       "      <td>no</td>\n",
       "      <td>yes</td>\n",
       "      <td>yes</td>\n",
       "      <td>unknown</td>\n",
       "      <td>may</td>\n",
       "      <td>unknown</td>\n",
       "      <td>no</td>\n",
       "    </tr>\n",
       "  </tbody>\n",
       "</table>\n",
       "</div>"
      ],
      "text/plain": [
       "            job  marital  education default housing loan  contact month  \\\n",
       "0    management  married   tertiary      no     yes   no  unknown   may   \n",
       "1    technician   single  secondary      no     yes   no  unknown   may   \n",
       "2  entrepreneur  married  secondary      no     yes  yes  unknown   may   \n",
       "\n",
       "  poutcome   y  \n",
       "0  unknown  no  \n",
       "1  unknown  no  \n",
       "2  unknown  no  "
      ]
     },
     "execution_count": 19,
     "metadata": {},
     "output_type": "execute_result"
    }
   ],
   "source": [
    "# Kelompokkan data type object\n",
    "\n",
    "df.select_dtypes(['object']).head(3)"
   ]
  },
  {
   "cell_type": "code",
   "execution_count": 20,
   "id": "f2e99a2c-4722-49ab-8b68-bc7d63ee970c",
   "metadata": {},
   "outputs": [
    {
     "data": {
      "text/html": [
       "<div>\n",
       "<style scoped>\n",
       "    .dataframe tbody tr th:only-of-type {\n",
       "        vertical-align: middle;\n",
       "    }\n",
       "\n",
       "    .dataframe tbody tr th {\n",
       "        vertical-align: top;\n",
       "    }\n",
       "\n",
       "    .dataframe thead th {\n",
       "        text-align: right;\n",
       "    }\n",
       "</style>\n",
       "<table border=\"1\" class=\"dataframe\">\n",
       "  <thead>\n",
       "    <tr style=\"text-align: right;\">\n",
       "      <th></th>\n",
       "    </tr>\n",
       "  </thead>\n",
       "  <tbody>\n",
       "    <tr>\n",
       "      <th>0</th>\n",
       "    </tr>\n",
       "    <tr>\n",
       "      <th>1</th>\n",
       "    </tr>\n",
       "    <tr>\n",
       "      <th>2</th>\n",
       "    </tr>\n",
       "  </tbody>\n",
       "</table>\n",
       "</div>"
      ],
      "text/plain": [
       "Empty DataFrame\n",
       "Columns: []\n",
       "Index: [0, 1, 2]"
      ]
     },
     "execution_count": 20,
     "metadata": {},
     "output_type": "execute_result"
    }
   ],
   "source": [
    "# Kelompokkan data type int dan float\n",
    "\n",
    "df.select_dtypes(['bool']).head(3)"
   ]
  },
  {
   "cell_type": "code",
   "execution_count": 21,
   "id": "c2402932-7b65-4036-a929-4849574ef709",
   "metadata": {},
   "outputs": [
    {
     "data": {
      "text/html": [
       "<div>\n",
       "<style scoped>\n",
       "    .dataframe tbody tr th:only-of-type {\n",
       "        vertical-align: middle;\n",
       "    }\n",
       "\n",
       "    .dataframe tbody tr th {\n",
       "        vertical-align: top;\n",
       "    }\n",
       "\n",
       "    .dataframe thead th {\n",
       "        text-align: right;\n",
       "    }\n",
       "</style>\n",
       "<table border=\"1\" class=\"dataframe\">\n",
       "  <thead>\n",
       "    <tr style=\"text-align: right;\">\n",
       "      <th></th>\n",
       "      <th>age</th>\n",
       "      <th>balance</th>\n",
       "      <th>day</th>\n",
       "      <th>duration</th>\n",
       "      <th>campaign</th>\n",
       "      <th>pdays</th>\n",
       "      <th>previous</th>\n",
       "    </tr>\n",
       "  </thead>\n",
       "  <tbody>\n",
       "    <tr>\n",
       "      <th>0</th>\n",
       "      <td>58</td>\n",
       "      <td>2143</td>\n",
       "      <td>5</td>\n",
       "      <td>261</td>\n",
       "      <td>1</td>\n",
       "      <td>-1</td>\n",
       "      <td>0</td>\n",
       "    </tr>\n",
       "    <tr>\n",
       "      <th>1</th>\n",
       "      <td>44</td>\n",
       "      <td>29</td>\n",
       "      <td>5</td>\n",
       "      <td>151</td>\n",
       "      <td>1</td>\n",
       "      <td>-1</td>\n",
       "      <td>0</td>\n",
       "    </tr>\n",
       "    <tr>\n",
       "      <th>2</th>\n",
       "      <td>33</td>\n",
       "      <td>2</td>\n",
       "      <td>5</td>\n",
       "      <td>76</td>\n",
       "      <td>1</td>\n",
       "      <td>-1</td>\n",
       "      <td>0</td>\n",
       "    </tr>\n",
       "  </tbody>\n",
       "</table>\n",
       "</div>"
      ],
      "text/plain": [
       "   age  balance  day  duration  campaign  pdays  previous\n",
       "0   58     2143    5       261         1     -1         0\n",
       "1   44       29    5       151         1     -1         0\n",
       "2   33        2    5        76         1     -1         0"
      ]
     },
     "execution_count": 21,
     "metadata": {},
     "output_type": "execute_result"
    }
   ],
   "source": [
    "# Kelompokkan data type int dan float\n",
    "\n",
    "df.select_dtypes(['float64', 'int64']).head(3)"
   ]
  },
  {
   "cell_type": "markdown",
   "id": "5bc65fd3-2eaf-4ded-8a5c-85864f5d4cab",
   "metadata": {},
   "source": [
    "> Data yang dibutuhkan sudah memenuhi dtype dan sudah bersih dari Na\n",
    "maka dilanjutkan dengan EDA"
   ]
  },
  {
   "cell_type": "markdown",
   "id": "611264ec-4cae-40f6-876b-7db5620e1231",
   "metadata": {},
   "source": [
    "3. Ubah data category (\"yes\", \"no\") menjadi data dummy (1,0)\n",
    "hal ini berguna untuk memudahkanproses analsi data karena bentuk data telah berubah menjadi integer."
   ]
  },
  {
   "cell_type": "code",
   "execution_count": 133,
   "id": "2b373d0d-86db-427f-80c0-598f4b5e0d17",
   "metadata": {},
   "outputs": [],
   "source": [
    "# Menandai data \"y\" yaitu subsciber menjadi data dummy dengan \"yes\" sebagai 1 dan \"no\" sebagai 0\n",
    "\n",
    "df[\"left\"] = np.where(df[\"y\"] == \"yes\",1,0)"
   ]
  },
  {
   "cell_type": "code",
   "execution_count": 134,
   "id": "81e37932-39eb-4441-9da4-e606dde5422f",
   "metadata": {},
   "outputs": [
    {
     "data": {
      "text/html": [
       "<div>\n",
       "<style scoped>\n",
       "    .dataframe tbody tr th:only-of-type {\n",
       "        vertical-align: middle;\n",
       "    }\n",
       "\n",
       "    .dataframe tbody tr th {\n",
       "        vertical-align: top;\n",
       "    }\n",
       "\n",
       "    .dataframe thead th {\n",
       "        text-align: right;\n",
       "    }\n",
       "</style>\n",
       "<table border=\"1\" class=\"dataframe\">\n",
       "  <thead>\n",
       "    <tr style=\"text-align: right;\">\n",
       "      <th></th>\n",
       "      <th>age</th>\n",
       "      <th>job</th>\n",
       "      <th>marital</th>\n",
       "      <th>education</th>\n",
       "      <th>default</th>\n",
       "      <th>balance</th>\n",
       "      <th>housing</th>\n",
       "      <th>loan</th>\n",
       "      <th>contact</th>\n",
       "      <th>day</th>\n",
       "      <th>month</th>\n",
       "      <th>duration</th>\n",
       "      <th>campaign</th>\n",
       "      <th>pdays</th>\n",
       "      <th>previous</th>\n",
       "      <th>poutcome</th>\n",
       "      <th>y</th>\n",
       "      <th>left</th>\n",
       "    </tr>\n",
       "  </thead>\n",
       "  <tbody>\n",
       "    <tr>\n",
       "      <th>41621</th>\n",
       "      <td>47</td>\n",
       "      <td>admin.</td>\n",
       "      <td>married</td>\n",
       "      <td>secondary</td>\n",
       "      <td>no</td>\n",
       "      <td>2601</td>\n",
       "      <td>no</td>\n",
       "      <td>no</td>\n",
       "      <td>cellular</td>\n",
       "      <td>24</td>\n",
       "      <td>sep</td>\n",
       "      <td>261</td>\n",
       "      <td>1</td>\n",
       "      <td>-1</td>\n",
       "      <td>0</td>\n",
       "      <td>unknown</td>\n",
       "      <td>yes</td>\n",
       "      <td>1</td>\n",
       "    </tr>\n",
       "    <tr>\n",
       "      <th>9780</th>\n",
       "      <td>52</td>\n",
       "      <td>housemaid</td>\n",
       "      <td>divorced</td>\n",
       "      <td>primary</td>\n",
       "      <td>no</td>\n",
       "      <td>3899</td>\n",
       "      <td>no</td>\n",
       "      <td>no</td>\n",
       "      <td>unknown</td>\n",
       "      <td>9</td>\n",
       "      <td>jun</td>\n",
       "      <td>49</td>\n",
       "      <td>1</td>\n",
       "      <td>-1</td>\n",
       "      <td>0</td>\n",
       "      <td>unknown</td>\n",
       "      <td>no</td>\n",
       "      <td>0</td>\n",
       "    </tr>\n",
       "    <tr>\n",
       "      <th>18146</th>\n",
       "      <td>40</td>\n",
       "      <td>admin.</td>\n",
       "      <td>married</td>\n",
       "      <td>secondary</td>\n",
       "      <td>yes</td>\n",
       "      <td>-444</td>\n",
       "      <td>no</td>\n",
       "      <td>yes</td>\n",
       "      <td>telephone</td>\n",
       "      <td>30</td>\n",
       "      <td>jul</td>\n",
       "      <td>168</td>\n",
       "      <td>8</td>\n",
       "      <td>-1</td>\n",
       "      <td>0</td>\n",
       "      <td>unknown</td>\n",
       "      <td>no</td>\n",
       "      <td>0</td>\n",
       "    </tr>\n",
       "    <tr>\n",
       "      <th>24542</th>\n",
       "      <td>34</td>\n",
       "      <td>admin.</td>\n",
       "      <td>single</td>\n",
       "      <td>secondary</td>\n",
       "      <td>no</td>\n",
       "      <td>601</td>\n",
       "      <td>no</td>\n",
       "      <td>no</td>\n",
       "      <td>cellular</td>\n",
       "      <td>17</td>\n",
       "      <td>nov</td>\n",
       "      <td>184</td>\n",
       "      <td>3</td>\n",
       "      <td>-1</td>\n",
       "      <td>0</td>\n",
       "      <td>unknown</td>\n",
       "      <td>no</td>\n",
       "      <td>0</td>\n",
       "    </tr>\n",
       "    <tr>\n",
       "      <th>19232</th>\n",
       "      <td>59</td>\n",
       "      <td>retired</td>\n",
       "      <td>married</td>\n",
       "      <td>secondary</td>\n",
       "      <td>no</td>\n",
       "      <td>0</td>\n",
       "      <td>no</td>\n",
       "      <td>no</td>\n",
       "      <td>cellular</td>\n",
       "      <td>6</td>\n",
       "      <td>aug</td>\n",
       "      <td>142</td>\n",
       "      <td>2</td>\n",
       "      <td>-1</td>\n",
       "      <td>0</td>\n",
       "      <td>unknown</td>\n",
       "      <td>no</td>\n",
       "      <td>0</td>\n",
       "    </tr>\n",
       "  </tbody>\n",
       "</table>\n",
       "</div>"
      ],
      "text/plain": [
       "       age        job   marital  education default  balance housing loan  \\\n",
       "41621   47     admin.   married  secondary      no     2601      no   no   \n",
       "9780    52  housemaid  divorced    primary      no     3899      no   no   \n",
       "18146   40     admin.   married  secondary     yes     -444      no  yes   \n",
       "24542   34     admin.    single  secondary      no      601      no   no   \n",
       "19232   59    retired   married  secondary      no        0      no   no   \n",
       "\n",
       "         contact  day month  duration  campaign  pdays  previous poutcome  \\\n",
       "41621   cellular   24   sep       261         1     -1         0  unknown   \n",
       "9780     unknown    9   jun        49         1     -1         0  unknown   \n",
       "18146  telephone   30   jul       168         8     -1         0  unknown   \n",
       "24542   cellular   17   nov       184         3     -1         0  unknown   \n",
       "19232   cellular    6   aug       142         2     -1         0  unknown   \n",
       "\n",
       "         y  left  \n",
       "41621  yes     1  \n",
       "9780    no     0  \n",
       "18146   no     0  \n",
       "24542   no     0  \n",
       "19232   no     0  "
      ]
     },
     "execution_count": 134,
     "metadata": {},
     "output_type": "execute_result"
    }
   ],
   "source": [
    "#cek pembaruan data\n",
    "\n",
    "df.sample(5)"
   ]
  },
  {
   "cell_type": "markdown",
   "id": "5f135a0d-57f3-4972-9db0-642e94aa0cf5",
   "metadata": {},
   "source": [
    "# \n",
    "\n",
    "# EXPLORATORY DATA ANALYSIS\n",
    "\n",
    "#### a. Numerical Analysis"
   ]
  },
  {
   "cell_type": "markdown",
   "id": "461ff4dc-6570-415d-abed-d7dcf3c5a958",
   "metadata": {},
   "source": [
    "### 1. Bagaimana kecenderungan seseorang untuk berlangganan deposito berdasarkan age, balance, day, duration, campaign, pdays, dan previous ?\n",
    "Untuk menjawab target no.1 maka diperlukan untuk menganalisis data ekslporasi pada data numerik\n",
    "\n",
    "- mulai dengan analisis data ekslporasi pada data numerik\n",
    "> buat Function yang dapat memvisulisasikan data numerik dalam boxplot da distribution plot sekaligus"
   ]
  },
  {
   "cell_type": "code",
   "execution_count": 173,
   "id": "bfd8fd53-6c48-4620-b95d-fa63c9fe827b",
   "metadata": {},
   "outputs": [],
   "source": [
    "def NumericalVariable_Analysist(df, segment_by, target= \"y\"):\n",
    "    \"\"\"a function\"\"\"\n",
    "    fig, ax = plt.subplots(ncols= 2, figsize=(14,6))\n",
    "    \n",
    "    #boxplot for comparison\n",
    "    sns.boxplot(data=df, x = target, y = segment_by, palette= \"RdPu\", ax=ax[0]) \n",
    "    ax[0].set_title(\"Comparison of \" + segment_by + \" & \" + target) \n",
    "    \n",
    "     #distribution plot\n",
    "    ax[1].set_title(\"Distribution of \" + segment_by)\n",
    "    ax[1].set_ylabel(\"Frequency\")\n",
    "    sns.distplot(a = df[segment_by], ax=ax[1], kde=False)\n",
    "    \n",
    "    plt.show()"
   ]
  },
  {
   "cell_type": "markdown",
   "id": "7874fbc9-385d-457d-807a-48b1c73e766f",
   "metadata": {},
   "source": [
    "> Age"
   ]
  },
  {
   "cell_type": "code",
   "execution_count": 175,
   "id": "28b3164e-58d4-4154-9bb8-bc14b0f838fb",
   "metadata": {},
   "outputs": [
    {
     "data": {
      "image/png": "[encoded data removed]",
      "text/plain": [
       "<Figure size 1008x432 with 2 Axes>"
      ]
     },
     "metadata": {},
     "output_type": "display_data"
    }
   ],
   "source": [
    "NumericalVariable_Analysist(df, \"age\", target= \"y\")"
   ]
  },
  {
   "cell_type": "markdown",
   "id": "f9835acd-1d78-438f-91dd-11fb760e3c95",
   "metadata": {},
   "source": [
    "- Berdasarkan ouput boxplot, dapat diketahui bahwa pada data Age Data memiliki cukup banyak outlier di atas IQR\n",
    "- Data menceng ke kanan (possitive skewness) dan ekor data menjulur ke kanan sehingga diketahui bahwa banyak outlier diatas IQR\n",
    "- kebanyakan sample/responden berpusat pada rentang 19 tahun hingga 60 tahun\n",
    "- Data tertinggi terdapat pada sekitar 31 tahun."
   ]
  },
  {
   "cell_type": "code",
   "execution_count": 176,
   "id": "d05c5857-ea16-4412-8059-4bed3450ab77",
   "metadata": {},
   "outputs": [
    {
     "data": {
      "image/png": "[encoded data removed]",
      "text/plain": [
       "<Figure size 1008x432 with 2 Axes>"
      ]
     },
     "metadata": {},
     "output_type": "display_data"
    }
   ],
   "source": [
    "NumericalVariable_Analysist(df, \"balance\" , target= \"y\")"
   ]
  },
  {
   "cell_type": "markdown",
   "id": "a6874341-9c6d-4b20-92b7-0395fe0cf777",
   "metadata": {},
   "source": [
    "- Berdasarkan ouput boxplot, dapat diketahui bahwa pada data balance Data memiliki cukup banyak outlier di atas IQR\n",
    "- Data menceng ke kanan (possitive skewness) dan ekor data menjulur ke kanan sehingga diketahui bahwa banyak outlier diatas IQR\n",
    "- kebanyakan sample/responden berpusat pada rentang 0-18000\n",
    "- Data tertinggi terdapat pada sekitar angka 0."
   ]
  },
  {
   "cell_type": "markdown",
   "id": "73d10126-ee45-46e4-a89d-c6c3a00bc5df",
   "metadata": {},
   "source": [
    "> day"
   ]
  },
  {
   "cell_type": "code",
   "execution_count": 177,
   "id": "ccf5d77d-29d0-4dff-ba75-9395610f7986",
   "metadata": {},
   "outputs": [
    {
     "data": {
      "image/png": "[encoded data removed]",
      "text/plain": [
       "<Figure size 1008x432 with 2 Axes>"
      ]
     },
     "metadata": {},
     "output_type": "display_data"
    }
   ],
   "source": [
    "NumericalVariable_Analysist(df, \"day\", target= \"y\")"
   ]
  },
  {
   "cell_type": "markdown",
   "id": "418dfcee-dc14-4781-b9ad-bac462641b1e",
   "metadata": {},
   "source": [
    "- Berdasarkan ouput boxplot, dapat diketahui bahwa pada data tidak memiliki outlier.\n",
    "- Data menceng terlihat seimbang dan tersebar acak tidak condong maupun mencecng ke satu sisi, dan tidak ada outlier.\n",
    "  sehingga dapat diasumsikan data berdistribusi norrmal.\n",
    "- kebanyakan sample/responden berpusat pada rentang 2  hingga 31\n",
    "- Data tertinggi terdapat pada sekitar 20 tahun."
   ]
  },
  {
   "cell_type": "markdown",
   "id": "b15de4e2-d601-40a9-a7fa-76e886353c97",
   "metadata": {},
   "source": [
    "> duration"
   ]
  },
  {
   "cell_type": "code",
   "execution_count": 178,
   "id": "0ee3f746-ff7e-4d8d-ab93-6e4357d2e386",
   "metadata": {},
   "outputs": [
    {
     "data": {
      "image/png": "[encoded data removed]",
      "text/plain": [
       "<Figure size 1008x432 with 2 Axes>"
      ]
     },
     "metadata": {},
     "output_type": "display_data"
    }
   ],
   "source": [
    "NumericalVariable_Analysist(df, \"duration\", target= \"y\")"
   ]
  },
  {
   "cell_type": "markdown",
   "id": "9eebc98d-2b0d-4151-aed8-7f33fbe284d2",
   "metadata": {},
   "source": [
    "- Berdasarkan ouput boxplot, dapat diketahui bahwa pada data balance Data memiliki cukup banyak outlier di atas IQR\n",
    "- Data menceng ke kanan (possitive skewness) dan ekor data menjulur ke kanan sehingga diketahui bahwa banyak outlier diatas IQR\n",
    "- kebanyakan sample/responden berpusat pada rentang 0  hingga 1500\n",
    "- Data tertinggi terdapat pada sekitar 200 tahun."
   ]
  },
  {
   "cell_type": "markdown",
   "id": "9b9b8fc5-0da0-420f-97f1-8dcfdfa39155",
   "metadata": {},
   "source": []
  },
  {
   "cell_type": "markdown",
   "id": "d5730cf4-43a5-44c6-8b4d-00ee7b17e873",
   "metadata": {},
   "source": [
    "> campaign"
   ]
  },
  {
   "cell_type": "code",
   "execution_count": 179,
   "id": "eecfbe08-b64a-49b5-ab17-b295c3e0b3ca",
   "metadata": {},
   "outputs": [
    {
     "data": {
      "image/png": "[encoded data removed]",
      "text/plain": [
       "<Figure size 1008x432 with 2 Axes>"
      ]
     },
     "metadata": {},
     "output_type": "display_data"
    }
   ],
   "source": [
    "NumericalVariable_Analysist(df, \"campaign\", target= \"y\")"
   ]
  },
  {
   "cell_type": "markdown",
   "id": "0d97f1a0-53c5-425e-981e-5542c90bfde9",
   "metadata": {},
   "source": [
    "- Berdasarkan ouput boxplot, dapat diketahui bahwa pada data balance Data memiliki cukup banyak outlier di atas IQR\n",
    "- Data menceng ke kiri dan ekor data menjulur ke kanan sehingga diketahui bahwa banyak outlier diatas IQR\n",
    "- kebanyakan sample/responden berpusat pada rentang 2  hingga 12\n",
    "- outlier data berada diatas angka 15\n",
    "- Data tertinggi terdapat pada sekitar 2 tahun."
   ]
  },
  {
   "cell_type": "markdown",
   "id": "61524b8c-55cc-486f-86f1-7e3aaf7e8ab9",
   "metadata": {},
   "source": []
  },
  {
   "cell_type": "markdown",
   "id": "40cfc6d8-a983-467f-8453-1b41a528fdbe",
   "metadata": {},
   "source": [
    "> pdays"
   ]
  },
  {
   "cell_type": "code",
   "execution_count": 180,
   "id": "a44c6b82-e279-4555-adc3-6cc52c4994c5",
   "metadata": {},
   "outputs": [
    {
     "data": {
      "image/png": "[encoded data removed]",
      "text/plain": [
       "<Figure size 1008x432 with 2 Axes>"
      ]
     },
     "metadata": {},
     "output_type": "display_data"
    }
   ],
   "source": [
    "NumericalVariable_Analysist(df, \"pdays\", target= \"y\")"
   ]
  },
  {
   "cell_type": "markdown",
   "id": "c89a5ecb-17b9-4f62-b904-366d845cc4cf",
   "metadata": {},
   "source": [
    "- Berdasarkan ouput boxplot, dapat diketahui bahwa pada data balance Data memiliki cukup banyak outlier di atas IQR\n",
    "- Data menceng ke kanan (possitive skewness) dan ekor data menjulur ke kanan sehingga diketahui bahwa banyak outlier diatas IQR\n",
    "- kebanyakan sample/responden berpusat pada rentang 0 sekian.\n",
    "- outlier data berada diatas berada pada interval 100 hingga 400.\n",
    "- Data tertinggi terdapat pada sekitar 0."
   ]
  },
  {
   "cell_type": "markdown",
   "id": "5b1e823b-39f4-43f2-8d55-0e5798828059",
   "metadata": {},
   "source": []
  },
  {
   "cell_type": "markdown",
   "id": "1f15977e-26ab-47bb-8c62-4dcc0af6e280",
   "metadata": {},
   "source": []
  },
  {
   "cell_type": "markdown",
   "id": "71dbbd0c-0bda-4b94-918a-72c8333aa4e5",
   "metadata": {},
   "source": [
    "> previous"
   ]
  },
  {
   "cell_type": "code",
   "execution_count": 181,
   "id": "b9edffbd-f3c0-4317-b1d6-f23038de4dfd",
   "metadata": {},
   "outputs": [
    {
     "data": {
      "image/png": "[encoded data removed]",
      "text/plain": [
       "<Figure size 1008x432 with 2 Axes>"
      ]
     },
     "metadata": {},
     "output_type": "display_data"
    }
   ],
   "source": [
    "NumericalVariable_Analysist(df, \"previous\", target= \"y\")"
   ]
  },
  {
   "cell_type": "markdown",
   "id": "461fe547-2b8d-478f-b27a-a0f893776a72",
   "metadata": {},
   "source": [
    "- Berdasarkan ouput boxplot, dapat diketahui bahwa pada data balance Data memiliki cukup banyak outlier di atas IQR\n",
    "- Data sedikit menceng ke kanan (possitive skewness) dan ekor data menjulur ke kanan sehingga diketahui bahwa banyak outlier diatas IQR\n",
    "- kebanyakan sample/responden berpusat pada rentang 0.\n",
    "- outlier data berada diatas angka 0 sekian ke atas.\n",
    "- Data tertinggi terdapat pada sekitar 0n."
   ]
  },
  {
   "cell_type": "markdown",
   "id": "a506b7ad-095d-4dd9-8411-ae4818506fc7",
   "metadata": {},
   "source": []
  },
  {
   "cell_type": "markdown",
   "id": "367d7f9c-7200-483e-bebf-bd521a961764",
   "metadata": {},
   "source": [
    "> Berdasakan representasi masing-masing output diatas, dapat ditarik kesimpulan bahwa:\n",
    "- Berdasarkan ouput boxplot, hanya satu yang dapat diasumsikan berdistrbusi normal dan tidak memiliki outlier yaitu data day.  Sedangkan untuk data   age, balance, duration, campaign, pdays, dan previousbalance, Data memiliki cukup banyak outlier di atas IQR\n",
    "- Berdasarkan ouput diagram persebaran data, hanya satu data yang dapat diasumsikan berdistrbusi normal dan tidak memiliki outlier yaitu data day,     Sedangkan  age, balance, duration, campaign, pdays, dan previousbalance menceng ke kanan (possitive skewness) dan ekor data menjulur ke kanan \n",
    "- Pusat data dna outlier data beragam.\n",
    "- Berdasrakan data dapat disimpulkan data day memiliki pengaruh yang erat terhadap kecenderungan seseorang untuk berlangganan deposito. "
   ]
  },
  {
   "cell_type": "markdown",
   "id": "2b25f93f-224a-44c2-8cc0-37ff5b69321e",
   "metadata": {},
   "source": [
    "#### b. Categorical Analysis\n",
    "Analisis data ekslporasi pada data kategorik\n",
    "- Buat CountPlot dan Pie Plot terlebih dahulu untuk mengetahui proporsi data y (Client Deposit Subscribered)\n",
    "- kemudian buat Function yang dapat memvisulisasikan data numerik dalam boxplot da distribution plot sekaligus"
   ]
  },
  {
   "cell_type": "markdown",
   "id": "e37a9582-214a-49be-95e4-8ba65fc63c2c",
   "metadata": {},
   "source": [
    "### 2. Bagaimana Proporsi langganan deposit  pada data?\n",
    "> Countplot dan pie chart adalah  salah satu visualisasi data yang apat digunakan untuk melihat perbandingan atau proporsi dari beberapa data kategorik."
   ]
  },
  {
   "cell_type": "code",
   "execution_count": 209,
   "id": "df98dea8-6322-4980-aaf9-661750d15796",
   "metadata": {},
   "outputs": [
    {
     "data": {
      "image/png": "[encoded data removed]",
      "text/plain": [
       "<Figure size 432x288 with 1 Axes>"
      ]
     },
     "metadata": {},
     "output_type": "display_data"
    },
    {
     "data": {
      "image/png": "[encoded data removed]",
      "text/plain": [
       "<Figure size 432x288 with 1 Axes>"
      ]
     },
     "metadata": {},
     "output_type": "display_data"
    }
   ],
   "source": [
    "a = sns.countplot(data=df, x=\"y\")\n",
    "plt.show(a)\n",
    "b = plt.pie(df['y'].value_counts(), autopct = '%.0f%%', \n",
    "        textprops = {'fontsize' : 17, 'color' : 'white'}, explode = (0.1,0))\n",
    "plt.show(b)"
   ]
  },
  {
   "cell_type": "code",
   "execution_count": 207,
   "id": "6e45dc7c-371d-4182-9773-5694f4298d02",
   "metadata": {},
   "outputs": [
    {
     "data": {
      "text/plain": [
       "no     39922\n",
       "yes     5289\n",
       "Name: y, dtype: int64"
      ]
     },
     "execution_count": 207,
     "metadata": {},
     "output_type": "execute_result"
    }
   ],
   "source": [
    "df['y'].value_counts()"
   ]
  },
  {
   "cell_type": "markdown",
   "id": "0b55a6fd-00e9-4d26-8f17-fa3bd91a458a",
   "metadata": {},
   "source": [
    "> Berdasarkan Countplot dapat diketahui bahwa 39922 responden tidak berlangganan deposito dan hanya 5289 responden berlangganan deposito.\n",
    "> Berdasarkan pie chart dapat diketahui bahwa 88% responden tidak berlangganan deposito dan sisanya berlangganan deposito.\n",
    "> Drari hasilitu dapat disimpulkan bahwa masih sedikit masyarakat yag berlangganan deposito"
   ]
  },
  {
   "cell_type": "markdown",
   "id": "1e8c8164-990b-4bf7-8ffc-0dc11745b979",
   "metadata": {},
   "source": [
    "### 3. Kelompok apa saja yang memiliki kecenderung berlangganan deposit berdasarkan kategori age, job, marital, education, default, balance, housing,       loan, contact, day, month, duration, campaign, pdays, previous, poutcome ?\n",
    "> buat Function yang dapat memvisulisasikan data numerik dalam boxplot da distribution plot sekaligus"
   ]
  },
  {
   "cell_type": "code",
   "execution_count": 214,
   "id": "4aeac4f4-b3d7-4fcb-8cee-77ea4e6644bb",
   "metadata": {},
   "outputs": [],
   "source": [
    "def CategoricalVariables_Analysist(df, segment_by, invert_axis = False, target = \"left\"):\n",
    "    \"\"\"A function for Plotting the effect of variables(categorical data) on attrition\"\"\"\n",
    "    \n",
    "    fig, ax = plt.subplots(ncols= 2, figsize = (14,6))\n",
    "    #countplot for distribution along with target variable\n",
    "    #invert axis variable helps to inter change the axis so that names of categories doesn't overlap\n",
    "    if invert_axis == False:\n",
    "        sns.countplot(x = segment_by, data=df, hue=\"y\", palette= \"Set2\", ax=ax[0])\n",
    "    else:\n",
    "        sns.countplot(y = segment_by, data=df, hue=\"y\", palette= \"Set2\", ax=ax[0])\n",
    "       \n",
    "    #plot\n",
    "    if invert_axis == False:\n",
    "        sns.barplot(x = segment_by, y = target , data=df, palette= \"RdPu\",  ci= None)\n",
    "    else:\n",
    "        sns.barplot(y = segment_by, x = target , data=df, palette= \"RdPu\", ci= None)\n",
    "        \n",
    "    ax[1].set_title(\"Subscriber rate by {}\".format(segment_by))\n",
    "    ax[1].set_ylabel(\"Average (Attrition)\")\n",
    "    plt.tight_layout()\n",
    "    \n",
    "    plt.show()"
   ]
  },
  {
   "cell_type": "markdown",
   "id": "4f496c0e-bb0c-4448-90b4-f208e518e937",
   "metadata": {},
   "source": [
    "> job"
   ]
  },
  {
   "cell_type": "code",
   "execution_count": 215,
   "id": "65d1d7ee-602a-4d4e-99dd-129a41dd4cc3",
   "metadata": {
    "tags": []
   },
   "outputs": [
    {
     "data": {
      "image/png": "[encoded data removed]",
      "text/plain": [
       "<Figure size 2160x1440 with 2 Axes>"
      ]
     },
     "metadata": {},
     "output_type": "display_data"
    }
   ],
   "source": [
    "CategoricalVariables_Analysist(df, \"job\")"
   ]
  },
  {
   "cell_type": "markdown",
   "id": "5a06e63c-6166-41be-9411-063584d64fec",
   "metadata": {},
   "source": [
    "> Berdasarkan ouput countplot, dapat diketahui bahwa responsen yang tidak berlangganan deposito lebih banyak \n",
    "- Job yang paling banyak tidak berlangganan deposito adalah blue-collar, paling sedikit tidak berlangganan adalah student\n",
    "- Job yang paling banyak berlangganan deposito adalah management, paling sedikit berlangganan adalah unknown\n",
    "> Sedangakn secara keseluhuan berdasarkan barplot, Job yang perbandingan pekerjanya paling banyak berlangganan deposito adalah  student"
   ]
  },
  {
   "cell_type": "markdown",
   "id": "f9894d32-8033-41b4-bd37-a999f8843912",
   "metadata": {},
   "source": [
    "> marital "
   ]
  },
  {
   "cell_type": "code",
   "execution_count": 165,
   "id": "f19b4e82-e175-4c57-b271-2b1a469f698b",
   "metadata": {},
   "outputs": [
    {
     "data": {
      "image/png": "[encoded data removed]",
      "text/plain": [
       "<Figure size 1008x432 with 2 Axes>"
      ]
     },
     "metadata": {},
     "output_type": "display_data"
    }
   ],
   "source": [
    "CategoricalVariables_Analysist(df, \"marital\")"
   ]
  },
  {
   "cell_type": "markdown",
   "id": "7579f0dc-de42-41f4-8072-3635e68497cb",
   "metadata": {},
   "source": [
    "> Berdasarkan ouput countplot, dapat diketahui bahwa responsen yang tidak berlangganan deposito lebih banyak \n",
    "- Kalompok yang paling banyak tidak berlangganan deposito adalah MARRIED, paling sedikit tidak berlangganan adalah DIVORCED\n",
    "- Kelompok yang paling banyak berlangganan deposito adalah MARRIED, paling sedikit berlangganan adalah DIVORCED\n",
    "> Sedangakn secara keseluhuan berdasarkan barplot, data dengan perbandingan jumlah anggotanya itu paling banyak berlangganan deposito adalah  single."
   ]
  },
  {
   "cell_type": "markdown",
   "id": "1b215ce9-dc78-4b98-b0fa-ea3925f167c1",
   "metadata": {},
   "source": [
    "> education"
   ]
  },
  {
   "cell_type": "code",
   "execution_count": 166,
   "id": "f1a2c468-00a5-4775-bb2d-6e94a8979384",
   "metadata": {},
   "outputs": [
    {
     "data": {
      "image/png": "[encoded data removed]",
      "text/plain": [
       "<Figure size 1008x432 with 2 Axes>"
      ]
     },
     "metadata": {},
     "output_type": "display_data"
    }
   ],
   "source": [
    "CategoricalVariables_Analysist(df, \"education\")"
   ]
  },
  {
   "cell_type": "markdown",
   "id": "df680193-58a6-4e58-81b7-0c070969f36b",
   "metadata": {},
   "source": [
    "> Berdasarkan ouput countplot, dapat diketahui bahwa responsen yang tidak berlangganan deposito lebih banyak \n",
    "- Kalompok yang paling banyak tidak berlangganan deposito adalah SECONDARY, paling sedikit tidak berlangganan adalah UNKNOWN\n",
    "- Kelompok yang paling banyak berlangganan deposito adalah SCONDARY, paling sedikit berlangganan adalah UNKNOWN\n",
    "> Sedangakn secara keseluhuan berdasarkan barplot, data dengan perbandingan jumlah anggotanya itu paling banyak berlangganan deposito adalah  TERTIARY"
   ]
  },
  {
   "cell_type": "markdown",
   "id": "3f4c525c-94a4-4abe-95ad-9e06c1d2393b",
   "metadata": {},
   "source": [
    "> default"
   ]
  },
  {
   "cell_type": "code",
   "execution_count": 167,
   "id": "6087970b-7223-4955-8c4e-6c7ff6cd8711",
   "metadata": {},
   "outputs": [
    {
     "data": {
      "image/png": "[encoded data removed]",
      "text/plain": [
       "<Figure size 1008x432 with 2 Axes>"
      ]
     },
     "metadata": {},
     "output_type": "display_data"
    }
   ],
   "source": [
    "CategoricalVariables_Analysist(df, \"default\")"
   ]
  },
  {
   "cell_type": "markdown",
   "id": "e1c5bc69-c0fb-487f-9337-06500c83b181",
   "metadata": {},
   "source": [
    "> Berdasarkan ouput countplot, dapat diketahui bahwa responsen yang tidak berlangganan deposito lebih banyak \n",
    "- Kalompok yang paling banyak tidak berlangganan deposito adalah TIDAK PUNYA KARTU KREDIT, paling sedikit tidak berlangganan adalah PUNYA KARTU KREDIT\n",
    "- Kelompok yang paling banyak berlangganan deposito adalah MARRITIDAK PUNYA KARTU KREDITED, paling sedikit berlangganan adalah PUNYA KARTU KREDIT\n",
    "> Sedangakn secara keseluhuan berdasarkan barplot, data dengan perbandingan jumlah anggotanya itu paling banyak berlangganan deposito adalah  TIDAK PUNYA KARTU KREDIT"
   ]
  },
  {
   "cell_type": "markdown",
   "id": "8545b231-2b1a-440a-9bf6-08e1fd2ed7a2",
   "metadata": {},
   "source": [
    "> housing"
   ]
  },
  {
   "cell_type": "code",
   "execution_count": 168,
   "id": "20915dca-46fc-43b2-b910-f98201305f86",
   "metadata": {},
   "outputs": [
    {
     "data": {
      "image/png": "[encoded data removed]",
      "text/plain": [
       "<Figure size 1008x432 with 2 Axes>"
      ]
     },
     "metadata": {},
     "output_type": "display_data"
    }
   ],
   "source": [
    "CategoricalVariables_Analysist(df, \"housing\")"
   ]
  },
  {
   "cell_type": "markdown",
   "id": "86034c2d-1add-43b9-a768-b303b25801b9",
   "metadata": {},
   "source": [
    "> loan"
   ]
  },
  {
   "cell_type": "markdown",
   "id": "ccde4f62-9d72-4cd4-84a9-cd54519989b1",
   "metadata": {},
   "source": [
    "> Berdasarkan ouput countplot, dapat diketahui bahwa responsen yang tidak berlangganan deposito lebih banyak \n",
    "- Kalompok yang paling banyak tidak berlangganan deposito adalah HOUSING, paling sedikit tidak berlangganan adalah TIDAK HOUSING\n",
    "- Kelompok yang paling banyak berlangganan deposito adalah TIDAK HOUSING, paling sedikit berlangganan adalah HOUSING\n",
    "> Sedangakn secara keseluhuan berdasarkan barplot, data dengan perbandingan jumlah anggotanya itu paling banyak berlangganan deposito adalah  TIDAK HOUSING"
   ]
  },
  {
   "cell_type": "code",
   "execution_count": 169,
   "id": "4a92a35b-add8-4ca4-9384-c7f5c3d8f1ee",
   "metadata": {},
   "outputs": [
    {
     "data": {
      "image/png": "[encoded data removed]",
      "text/plain": [
       "<Figure size 1008x432 with 2 Axes>"
      ]
     },
     "metadata": {},
     "output_type": "display_data"
    }
   ],
   "source": [
    "CategoricalVariables_Analysist(df, \"loan\")"
   ]
  },
  {
   "cell_type": "markdown",
   "id": "6d8df874-f513-45ee-9abd-e00abea330bd",
   "metadata": {},
   "source": [
    "> contact"
   ]
  },
  {
   "cell_type": "markdown",
   "id": "67f66407-b6ac-4833-b780-367967c2044d",
   "metadata": {},
   "source": [
    "> Berdasarkan ouput countplot, dapat diketahui bahwa responsen yang tidak berlangganan deposito lebih banyak \n",
    "- Kalompok yang paling banyak tidak berlangganan deposito adalah TIDAK LOAN (MEMILIKI PINJAMAN PRIBADI), paling sedikit tidak berlangganan adalah LOAN (MEMILIKI PINJAMAN PRIBADI)\n",
    "- Kelompok yang paling banyak berlangganan deposito adalah TIDAK LOAN (MEMILIKI PINJAMAN PRIBADI), paling sedikit berlangganan adalah LOAN (MEMILIKI PINJAMAN PRIBADI)\n",
    "> Sedangakn secara keseluhuan berdasarkan barplot, data dengan perbandingan jumlah anggotanya itu paling banyak berlangganan deposito adalah  LOAN (MEMILIKI PINJAMAN PRIBADI)"
   ]
  },
  {
   "cell_type": "code",
   "execution_count": 170,
   "id": "9fb8aa4f-e98a-4e3c-ad12-0fd9356c573e",
   "metadata": {},
   "outputs": [
    {
     "data": {
      "image/png": "[encoded data removed]",
      "text/plain": [
       "<Figure size 1008x432 with 2 Axes>"
      ]
     },
     "metadata": {},
     "output_type": "display_data"
    }
   ],
   "source": [
    "CategoricalVariables_Analysist(df, \"contact\")"
   ]
  },
  {
   "cell_type": "markdown",
   "id": "2bd24d2b-3bbb-4d6f-9449-b13874fe5a2e",
   "metadata": {},
   "source": []
  },
  {
   "cell_type": "markdown",
   "id": "d87b3045-4a29-4c83-a26a-1bf665050963",
   "metadata": {},
   "source": [
    "> Berdasarkan ouput countplot, dapat diketahui bahwa responsen yang tidak berlangganan deposito lebih banyak \n",
    "- Kalompok yang paling banyak tidak berlangganan deposito adalah cellular, paling sedikit tidak berlangganan adalah telephone\n",
    "- Kelompok yang paling banyak berlangganan deposito adalah cellular, paling sedikit berlangganan adalah telephone\n",
    "> Sedangakn secara keseluhuan berdasarkan barplot, data dengan perbandingan jumlah anggotanya itu paling banyak berlangganan deposito adalah  cellular"
   ]
  },
  {
   "cell_type": "markdown",
   "id": "eb129a4a-7f8f-43dd-aa68-3e1f83a49eff",
   "metadata": {},
   "source": [
    "> month"
   ]
  },
  {
   "cell_type": "code",
   "execution_count": 171,
   "id": "cb22669f-6054-410d-b800-716c0ca3111f",
   "metadata": {},
   "outputs": [
    {
     "data": {
      "image/png": "[encoded data removed]",
      "text/plain": [
       "<Figure size 1008x432 with 2 Axes>"
      ]
     },
     "metadata": {},
     "output_type": "display_data"
    }
   ],
   "source": [
    "CategoricalVariables_Analysist(df, \"month\")"
   ]
  },
  {
   "cell_type": "markdown",
   "id": "45e2fee5-06f5-4ff8-b6ab-45325c11ef66",
   "metadata": {},
   "source": []
  },
  {
   "cell_type": "markdown",
   "id": "68bef25e-0d62-45d9-bae2-a31ca2ca9da9",
   "metadata": {},
   "source": [
    "> poutcome"
   ]
  },
  {
   "cell_type": "markdown",
   "id": "361f91b2-b697-4c99-96bf-9d6980af8e60",
   "metadata": {},
   "source": [
    "> Berdasarkan ouput countplot, dapat diketahui bahwa responsen yang tidak berlangganan deposito lebih banyak \n",
    "- Kalompok yang paling banyak tidak berlangganan deposito adalah MAY, paling sedikit tidak berlangganan adalah DECEMBER\n",
    "- Kelompok yang paling banyak berlangganan deposito adalah MAY, paling sedikit berlangganan adalah DECEMBER\n",
    "> Sedangakn secara keseluhuan berdasarkan barplot, data dengan perbandingan jumlah anggotanya itu paling banyak berlangganan deposito adalah  MARET"
   ]
  },
  {
   "cell_type": "code",
   "execution_count": 172,
   "id": "94b50254-16c7-404b-a664-ba2173e3fb23",
   "metadata": {},
   "outputs": [
    {
     "data": {
      "image/png": "[encoded data removed]",
      "text/plain": [
       "<Figure size 1008x432 with 2 Axes>"
      ]
     },
     "metadata": {},
     "output_type": "display_data"
    }
   ],
   "source": [
    "CategoricalVariables_Analysist(df, \"poutcome\")"
   ]
  },
  {
   "cell_type": "markdown",
   "id": "b97edfe2-84e4-4ad7-8d6d-0ae60f42ffde",
   "metadata": {},
   "source": []
  },
  {
   "cell_type": "markdown",
   "id": "0755db49-153c-48e3-ba9e-8ba49d59f5dd",
   "metadata": {},
   "source": [
    "# "
   ]
  },
  {
   "cell_type": "markdown",
   "id": "abea26c4-fd40-41dc-a8b8-bf29718da891",
   "metadata": {},
   "source": [
    "> Berdasarkan ouput countplot, dapat diketahui bahwa responsen yang tidak berlangganan deposito lebih banyak \n",
    "- Kalompok yang paling banyak tidak berlangganan deposito adalah UNKONOWN, paling sedikit tidak berlangganan adalah success\n",
    "- Kelompok yang paling banyak berlangganan deposito adalah UNKNOWN, paling sedikit berlangganan adalah OTHER\n",
    "> Sedangakn secara keseluhuan berdasarkan barplot, data dengan perbandingan jumlah anggotanya itu paling banyak berlangganan deposito adalah  SUCCESS"
   ]
  },
  {
   "cell_type": "markdown",
   "id": "7e5b1ef0-2434-499e-93f3-8834c2692985",
   "metadata": {},
   "source": [
    "> Sehingga dapat disimpulakn bahwa kemungkinan kategori yang dapat menjadi faktor yang dapat mempengaruhi  seseorang berlangganan deposito adalah\n",
    "> ketika job = student, marital = single, education = tertiary, default = no (tidak memiliki kartu kreit), Housing = no  (tidak perumahan), load = yes (tidak memiliki pijaman pribadi), contact =celluler, mouth = maret, dan poutcome = success. "
   ]
  },
  {
   "cell_type": "markdown",
   "id": "679ee1a0-674e-412f-9e02-fccf76d8e390",
   "metadata": {},
   "source": [
    "> Attrition"
   ]
  },
  {
   "cell_type": "markdown",
   "id": "c28a0261-97a7-448c-93f3-9a9838baa8ca",
   "metadata": {},
   "source": [
    "### 4. Data apa saja yang memiliki korelasi yang kuat mempengaruhi seseorang berlangganan deposito ?\n",
    "> buat heatmap untuk mengetahui korelasi antar data."
   ]
  },
  {
   "cell_type": "code",
   "execution_count": 159,
   "id": "3b7b8e6c-73a3-42e0-9f96-c8a2a74be8b6",
   "metadata": {},
   "outputs": [
    {
     "data": {
      "text/plain": [
       "<AxesSubplot:>"
      ]
     },
     "execution_count": 159,
     "metadata": {},
     "output_type": "execute_result"
    },
    {
     "data": {
      "image/png": "[encoded data removed]",
      "text/plain": [
       "<Figure size 864x432 with 2 Axes>"
      ]
     },
     "metadata": {},
     "output_type": "display_data"
    }
   ],
   "source": [
    "plt.figure(figsize=(12,6))\n",
    "sns.heatmap(df.select_dtypes(['int64','float64']).corr('spearman'), annot=True)"
   ]
  },
  {
   "cell_type": "markdown",
   "id": "afe9ae1c-cdb9-4c8d-a442-9b8bafd89cec",
   "metadata": {},
   "source": [
    "> Berdasarkan heatmap, dapat diketahui bahwa\n",
    "- korelasi data terbesar dimiliki antara data previous dengan pdays yaitu sebesar 0,99\n",
    "  ini menunjukkan bahwa hampir sempurna kedua variabel saling berhubungan karena mendekati datu.\n",
    "  apabila previous naik satu angka maka pdays akan naik 0.99 kali lipat angka tersebut, begitu pun sebaliknya.\n",
    "- korelasi data yang terkecil dimiliki oleh data day dan balance yaitu besar 0.0013\n",
    "  artinya bahwa korelasinya sangat rendah karena mendekati nol.\n",
    "  apabila previous naik satu angka maka pdays akan naik hanya 0.0013 kali lipat angka tersebut, begitu pun sebaliknya."
   ]
  },
  {
   "cell_type": "markdown",
   "id": "76aede6b-c20f-4567-8d5f-7349b5f98479",
   "metadata": {},
   "source": [
    "# "
   ]
  },
  {
   "cell_type": "markdown",
   "id": "173cc5fc-a204-43fb-9fc0-7611bd2868f8",
   "metadata": {},
   "source": [
    "## SUMMARY"
   ]
  },
  {
   "cell_type": "markdown",
   "id": "72b9532c-52b0-4d4c-96cf-c3a8d0a2660d",
   "metadata": {},
   "source": [
    "> Berdasakan representasi masing-masing output diatas, dapat ditarik kesimpulan bahwa:\n",
    "- Berdasarkan ouput boxplot, hanya satu yang dapat diasumsikan berdistrbusi normal dan tidak memiliki outlier yaitu data day.  Sedangkan untuk data   age, balance, duration, campaign, pdays, dan previousbalance, Data memiliki cukup banyak outlier di atas IQR\n",
    "- Berdasarkan ouput diagram persebaran data, hanya satu data yang dapat diasumsikan berdistrbusi normal dan tidak memiliki outlier yaitu data day,     Sedangkan  age, balance, duration, campaign, pdays, dan previousbalance menceng ke kanan (possitive skewness) dan ekor data menjulur ke kanan \n",
    "- Pusat data dna outlier data beragam.\n",
    "- Berdasrakan data dapat disimpulkan data day memiliki pengaruh yang erat terhadap kecenderungan seseorang untuk berlangganan deposito. "
   ]
  },
  {
   "cell_type": "markdown",
   "id": "1daea692-7ee6-481f-b682-84218d571603",
   "metadata": {},
   "source": [
    "> Proporsi data\n",
    "- Berdasarkan Countplot dapat diketahui bahwa 39922 responden tidak berlangganan deposito dan hanya 5289 responden berlangganan deposito.\n",
    "- Berdasarkan pie chart dapat diketahui bahwa 88% responden tidak berlangganan deposito dan sisanya berlangganan deposito.\n",
    "- Drari hasilitu dapat disimpulkan bahwa masih sedikit masyarakat yag berlangganan deposito"
   ]
  },
  {
   "cell_type": "markdown",
   "id": "4116277d-f24b-4064-aa58-5c59e5b12549",
   "metadata": {},
   "source": [
    "> Sehingga dapat disimpulakn bahwa kemungkinan kategori yang dapat menjadi faktor yang dapat mempengaruhi  seseorang berlangganan deposito adalah \n",
    "- ketika job = student, marital = single, education = tertiary, default = no (tidak memiliki kartu kreit), Housing = no  (tidak perumahan), load = yes (tidak memiliki pijaman pribadi), contact =celluler, mouth = maret, dan poutcome = success. "
   ]
  },
  {
   "cell_type": "markdown",
   "id": "5576be2f-b32b-43cf-b196-17ac8fd7a9c1",
   "metadata": {},
   "source": [
    "> Berdasarkan heatmap, dapat diketahui bahwa\n",
    "- korelasi data terbesar dimiliki antara data previous dengan pdays yaitu sebesar 0,99\n",
    "  ini menunjukkan bahwa hampir sempurna kedua variabel saling berhubungan karena mendekati datu.\n",
    "  apabila previous naik satu angka maka pdays akan naik 0.99 kali lipat angka tersebut, begitu pun sebaliknya.\n",
    "- korelasi data yang terkecil dimiliki oleh data day dan balance yaitu besar 0.0013\n",
    "  artinya bahwa korelasinya sangat rendah karena mendekati nol.\n",
    "  apabila previous naik satu angka maka pdays akan naik hanya 0.0013 kali lipat angka tersebut, begitu pun sebaliknya."
   ]
  }
 ],
 "metadata": {
  "kernelspec": {
   "display_name": "Python 3",
   "language": "python",
   "name": "python3"
  },
  "language_info": {
   "codemirror_mode": {
    "name": "ipython",
    "version": 3
   },
   "file_extension": ".py",
   "mimetype": "text/x-python",
   "name": "python",
   "nbconvert_exporter": "python",
   "pygments_lexer": "ipython3",
   "version": "3.8.2"
  }
 },
 "nbformat": 4,
 "nbformat_minor": 5
}
